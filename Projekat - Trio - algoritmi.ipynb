{
 "cells": [
  {
   "cell_type": "code",
   "execution_count": 1,
   "metadata": {},
   "outputs": [],
   "source": [
    "import numpy as np\n",
    "import pandas as pd\n",
    "pd.set_option('display.max_columns', 500)"
   ]
  },
  {
   "cell_type": "code",
   "execution_count": 2,
   "metadata": {},
   "outputs": [
    {
     "data": {
      "text/html": [
       "<div>\n",
       "<style scoped>\n",
       "    .dataframe tbody tr th:only-of-type {\n",
       "        vertical-align: middle;\n",
       "    }\n",
       "\n",
       "    .dataframe tbody tr th {\n",
       "        vertical-align: top;\n",
       "    }\n",
       "\n",
       "    .dataframe thead th {\n",
       "        text-align: right;\n",
       "    }\n",
       "</style>\n",
       "<table border=\"1\" class=\"dataframe\">\n",
       "  <thead>\n",
       "    <tr style=\"text-align: right;\">\n",
       "      <th></th>\n",
       "      <th>Unnamed: 0</th>\n",
       "      <th>VehYear</th>\n",
       "      <th>VehicleAge</th>\n",
       "      <th>VehOdo</th>\n",
       "      <th>VNZIP1</th>\n",
       "      <th>VehBCost</th>\n",
       "      <th>IsOnlineSale</th>\n",
       "      <th>WarrantyCost</th>\n",
       "      <th>PurchYear</th>\n",
       "      <th>AcquisitionAuctionRatio</th>\n",
       "      <th>AcquisitionRetailRatio</th>\n",
       "      <th>CurrentAuctionRatio</th>\n",
       "      <th>CurrentRetailRatio</th>\n",
       "      <th>Make_ACURA</th>\n",
       "      <th>Make_BUICK</th>\n",
       "      <th>Make_CADILLAC</th>\n",
       "      <th>Make_CHEVROLET</th>\n",
       "      <th>Make_CHRYSLER</th>\n",
       "      <th>Make_DODGE</th>\n",
       "      <th>Make_FORD</th>\n",
       "      <th>Make_GMC</th>\n",
       "      <th>Make_HONDA</th>\n",
       "      <th>Make_HUMMER</th>\n",
       "      <th>Make_HYUNDAI</th>\n",
       "      <th>Make_INFINITI</th>\n",
       "      <th>Make_ISUZU</th>\n",
       "      <th>Make_JEEP</th>\n",
       "      <th>Make_KIA</th>\n",
       "      <th>Make_LEXUS</th>\n",
       "      <th>Make_LINCOLN</th>\n",
       "      <th>Make_MAZDA</th>\n",
       "      <th>Make_MERCURY</th>\n",
       "      <th>Make_MINI</th>\n",
       "      <th>Make_MITSUBISHI</th>\n",
       "      <th>Make_NISSAN</th>\n",
       "      <th>Make_OLDSMOBILE</th>\n",
       "      <th>Make_PLYMOUTH</th>\n",
       "      <th>Make_PONTIAC</th>\n",
       "      <th>Make_SATURN</th>\n",
       "      <th>Make_SCION</th>\n",
       "      <th>Make_SUBARU</th>\n",
       "      <th>Make_SUZUKI</th>\n",
       "      <th>Make_TOYOTA</th>\n",
       "      <th>Make_VOLKSWAGEN</th>\n",
       "      <th>Make_VOLVO</th>\n",
       "      <th>Color_BEIGE</th>\n",
       "      <th>Color_BLACK</th>\n",
       "      <th>Color_BLUE</th>\n",
       "      <th>Color_BROWN</th>\n",
       "      <th>Color_GOLD</th>\n",
       "      <th>Color_GREEN</th>\n",
       "      <th>Color_GREY</th>\n",
       "      <th>Color_MAROON</th>\n",
       "      <th>Color_NOT AVAIL</th>\n",
       "      <th>Color_ORANGE</th>\n",
       "      <th>Color_OTHER</th>\n",
       "      <th>Color_PURPLE</th>\n",
       "      <th>Color_RED</th>\n",
       "      <th>Color_SILVER</th>\n",
       "      <th>Color_WHITE</th>\n",
       "      <th>Color_YELLOW</th>\n",
       "      <th>Transmission_AUTO</th>\n",
       "      <th>Transmission_MANUAL</th>\n",
       "      <th>WheelType_Alloy</th>\n",
       "      <th>WheelType_Covers</th>\n",
       "      <th>Nationality_AMERICAN</th>\n",
       "      <th>Nationality_OTHER</th>\n",
       "      <th>Nationality_OTHER ASIAN</th>\n",
       "      <th>Nationality_TOP LINE ASIAN</th>\n",
       "      <th>Size_COMPACT</th>\n",
       "      <th>Size_CROSSOVER</th>\n",
       "      <th>Size_LARGE</th>\n",
       "      <th>Size_LARGE SUV</th>\n",
       "      <th>Size_LARGE TRUCK</th>\n",
       "      <th>Size_MEDIUM</th>\n",
       "      <th>Size_MEDIUM SUV</th>\n",
       "      <th>Size_SMALL SUV</th>\n",
       "      <th>Size_SMALL TRUCK</th>\n",
       "      <th>Size_SPECIALTY</th>\n",
       "      <th>Size_SPORTS</th>\n",
       "      <th>Size_VAN</th>\n",
       "      <th>TopThreeAmericanName_CHRYSLER</th>\n",
       "      <th>TopThreeAmericanName_FORD</th>\n",
       "      <th>TopThreeAmericanName_GM</th>\n",
       "      <th>TopThreeAmericanName_OTHER</th>\n",
       "      <th>IsBadBuy</th>\n",
       "    </tr>\n",
       "  </thead>\n",
       "  <tbody>\n",
       "    <tr>\n",
       "      <th>0</th>\n",
       "      <td>0</td>\n",
       "      <td>-0.191806</td>\n",
       "      <td>-0.106505</td>\n",
       "      <td>0.157568</td>\n",
       "      <td>-0.930981</td>\n",
       "      <td>-1.065435</td>\n",
       "      <td>-0.166793</td>\n",
       "      <td>0.194455</td>\n",
       "      <td>-1.031687</td>\n",
       "      <td>-2.244656</td>\n",
       "      <td>-0.629052</td>\n",
       "      <td>-1.410765</td>\n",
       "      <td>-0.681319</td>\n",
       "      <td>0.0</td>\n",
       "      <td>0.0</td>\n",
       "      <td>0.0</td>\n",
       "      <td>0.0</td>\n",
       "      <td>0.0</td>\n",
       "      <td>1.0</td>\n",
       "      <td>0.0</td>\n",
       "      <td>0.0</td>\n",
       "      <td>0.0</td>\n",
       "      <td>0.0</td>\n",
       "      <td>0.0</td>\n",
       "      <td>0.0</td>\n",
       "      <td>0.0</td>\n",
       "      <td>0.0</td>\n",
       "      <td>0.0</td>\n",
       "      <td>0.0</td>\n",
       "      <td>0.0</td>\n",
       "      <td>0.0</td>\n",
       "      <td>0.0</td>\n",
       "      <td>0.0</td>\n",
       "      <td>0.0</td>\n",
       "      <td>0.0</td>\n",
       "      <td>0.0</td>\n",
       "      <td>0.0</td>\n",
       "      <td>0.0</td>\n",
       "      <td>0.0</td>\n",
       "      <td>0.0</td>\n",
       "      <td>0.0</td>\n",
       "      <td>0.0</td>\n",
       "      <td>0.0</td>\n",
       "      <td>0.0</td>\n",
       "      <td>0.0</td>\n",
       "      <td>0.0</td>\n",
       "      <td>0.0</td>\n",
       "      <td>0.0</td>\n",
       "      <td>0.0</td>\n",
       "      <td>0.0</td>\n",
       "      <td>0.0</td>\n",
       "      <td>0.0</td>\n",
       "      <td>1.0</td>\n",
       "      <td>0.0</td>\n",
       "      <td>0.0</td>\n",
       "      <td>0.0</td>\n",
       "      <td>0.0</td>\n",
       "      <td>0.0</td>\n",
       "      <td>0.0</td>\n",
       "      <td>0.0</td>\n",
       "      <td>0.0</td>\n",
       "      <td>1.0</td>\n",
       "      <td>0.0</td>\n",
       "      <td>0.0</td>\n",
       "      <td>1.0</td>\n",
       "      <td>1.0</td>\n",
       "      <td>0.0</td>\n",
       "      <td>0.0</td>\n",
       "      <td>0.0</td>\n",
       "      <td>0.0</td>\n",
       "      <td>0.0</td>\n",
       "      <td>0.0</td>\n",
       "      <td>0.0</td>\n",
       "      <td>0.0</td>\n",
       "      <td>1.0</td>\n",
       "      <td>0.0</td>\n",
       "      <td>0.0</td>\n",
       "      <td>0.0</td>\n",
       "      <td>0.0</td>\n",
       "      <td>0.0</td>\n",
       "      <td>0.0</td>\n",
       "      <td>1.0</td>\n",
       "      <td>0.0</td>\n",
       "      <td>0.0</td>\n",
       "      <td>0.0</td>\n",
       "      <td>0</td>\n",
       "    </tr>\n",
       "    <tr>\n",
       "      <th>1</th>\n",
       "      <td>1</td>\n",
       "      <td>-0.768751</td>\n",
       "      <td>0.475038</td>\n",
       "      <td>-0.401661</td>\n",
       "      <td>-0.930981</td>\n",
       "      <td>-1.523737</td>\n",
       "      <td>-0.166793</td>\n",
       "      <td>-1.075463</td>\n",
       "      <td>-1.031687</td>\n",
       "      <td>-1.707170</td>\n",
       "      <td>-0.674570</td>\n",
       "      <td>-1.864448</td>\n",
       "      <td>-1.236092</td>\n",
       "      <td>0.0</td>\n",
       "      <td>0.0</td>\n",
       "      <td>0.0</td>\n",
       "      <td>0.0</td>\n",
       "      <td>0.0</td>\n",
       "      <td>1.0</td>\n",
       "      <td>0.0</td>\n",
       "      <td>0.0</td>\n",
       "      <td>0.0</td>\n",
       "      <td>0.0</td>\n",
       "      <td>0.0</td>\n",
       "      <td>0.0</td>\n",
       "      <td>0.0</td>\n",
       "      <td>0.0</td>\n",
       "      <td>0.0</td>\n",
       "      <td>0.0</td>\n",
       "      <td>0.0</td>\n",
       "      <td>0.0</td>\n",
       "      <td>0.0</td>\n",
       "      <td>0.0</td>\n",
       "      <td>0.0</td>\n",
       "      <td>0.0</td>\n",
       "      <td>0.0</td>\n",
       "      <td>0.0</td>\n",
       "      <td>0.0</td>\n",
       "      <td>0.0</td>\n",
       "      <td>0.0</td>\n",
       "      <td>0.0</td>\n",
       "      <td>0.0</td>\n",
       "      <td>0.0</td>\n",
       "      <td>0.0</td>\n",
       "      <td>0.0</td>\n",
       "      <td>0.0</td>\n",
       "      <td>0.0</td>\n",
       "      <td>0.0</td>\n",
       "      <td>0.0</td>\n",
       "      <td>0.0</td>\n",
       "      <td>0.0</td>\n",
       "      <td>0.0</td>\n",
       "      <td>0.0</td>\n",
       "      <td>0.0</td>\n",
       "      <td>0.0</td>\n",
       "      <td>0.0</td>\n",
       "      <td>0.0</td>\n",
       "      <td>0.0</td>\n",
       "      <td>1.0</td>\n",
       "      <td>0.0</td>\n",
       "      <td>0.0</td>\n",
       "      <td>1.0</td>\n",
       "      <td>0.0</td>\n",
       "      <td>1.0</td>\n",
       "      <td>0.0</td>\n",
       "      <td>1.0</td>\n",
       "      <td>0.0</td>\n",
       "      <td>0.0</td>\n",
       "      <td>0.0</td>\n",
       "      <td>1.0</td>\n",
       "      <td>0.0</td>\n",
       "      <td>0.0</td>\n",
       "      <td>0.0</td>\n",
       "      <td>0.0</td>\n",
       "      <td>0.0</td>\n",
       "      <td>0.0</td>\n",
       "      <td>0.0</td>\n",
       "      <td>0.0</td>\n",
       "      <td>0.0</td>\n",
       "      <td>0.0</td>\n",
       "      <td>0.0</td>\n",
       "      <td>1.0</td>\n",
       "      <td>0.0</td>\n",
       "      <td>0.0</td>\n",
       "      <td>0.0</td>\n",
       "      <td>0</td>\n",
       "    </tr>\n",
       "    <tr>\n",
       "      <th>2</th>\n",
       "      <td>2</td>\n",
       "      <td>-0.191806</td>\n",
       "      <td>-0.106505</td>\n",
       "      <td>-0.145604</td>\n",
       "      <td>-0.930981</td>\n",
       "      <td>-1.581025</td>\n",
       "      <td>-0.166793</td>\n",
       "      <td>-0.422936</td>\n",
       "      <td>-1.031687</td>\n",
       "      <td>-0.684055</td>\n",
       "      <td>0.650894</td>\n",
       "      <td>-1.184988</td>\n",
       "      <td>-0.080909</td>\n",
       "      <td>0.0</td>\n",
       "      <td>0.0</td>\n",
       "      <td>0.0</td>\n",
       "      <td>0.0</td>\n",
       "      <td>0.0</td>\n",
       "      <td>0.0</td>\n",
       "      <td>1.0</td>\n",
       "      <td>0.0</td>\n",
       "      <td>0.0</td>\n",
       "      <td>0.0</td>\n",
       "      <td>0.0</td>\n",
       "      <td>0.0</td>\n",
       "      <td>0.0</td>\n",
       "      <td>0.0</td>\n",
       "      <td>0.0</td>\n",
       "      <td>0.0</td>\n",
       "      <td>0.0</td>\n",
       "      <td>0.0</td>\n",
       "      <td>0.0</td>\n",
       "      <td>0.0</td>\n",
       "      <td>0.0</td>\n",
       "      <td>0.0</td>\n",
       "      <td>0.0</td>\n",
       "      <td>0.0</td>\n",
       "      <td>0.0</td>\n",
       "      <td>0.0</td>\n",
       "      <td>0.0</td>\n",
       "      <td>0.0</td>\n",
       "      <td>0.0</td>\n",
       "      <td>0.0</td>\n",
       "      <td>0.0</td>\n",
       "      <td>0.0</td>\n",
       "      <td>0.0</td>\n",
       "      <td>0.0</td>\n",
       "      <td>0.0</td>\n",
       "      <td>0.0</td>\n",
       "      <td>0.0</td>\n",
       "      <td>0.0</td>\n",
       "      <td>0.0</td>\n",
       "      <td>0.0</td>\n",
       "      <td>0.0</td>\n",
       "      <td>0.0</td>\n",
       "      <td>0.0</td>\n",
       "      <td>0.0</td>\n",
       "      <td>0.0</td>\n",
       "      <td>1.0</td>\n",
       "      <td>0.0</td>\n",
       "      <td>0.0</td>\n",
       "      <td>0.0</td>\n",
       "      <td>1.0</td>\n",
       "      <td>0.0</td>\n",
       "      <td>1.0</td>\n",
       "      <td>1.0</td>\n",
       "      <td>0.0</td>\n",
       "      <td>0.0</td>\n",
       "      <td>0.0</td>\n",
       "      <td>1.0</td>\n",
       "      <td>0.0</td>\n",
       "      <td>0.0</td>\n",
       "      <td>0.0</td>\n",
       "      <td>0.0</td>\n",
       "      <td>0.0</td>\n",
       "      <td>0.0</td>\n",
       "      <td>0.0</td>\n",
       "      <td>0.0</td>\n",
       "      <td>0.0</td>\n",
       "      <td>0.0</td>\n",
       "      <td>0.0</td>\n",
       "      <td>0.0</td>\n",
       "      <td>1.0</td>\n",
       "      <td>0.0</td>\n",
       "      <td>0.0</td>\n",
       "      <td>0</td>\n",
       "    </tr>\n",
       "    <tr>\n",
       "      <th>3</th>\n",
       "      <td>3</td>\n",
       "      <td>-0.768751</td>\n",
       "      <td>0.475038</td>\n",
       "      <td>0.652406</td>\n",
       "      <td>-0.930981</td>\n",
       "      <td>-0.664420</td>\n",
       "      <td>-0.166793</td>\n",
       "      <td>-1.135696</td>\n",
       "      <td>-1.031687</td>\n",
       "      <td>-0.367682</td>\n",
       "      <td>-1.387553</td>\n",
       "      <td>-0.136808</td>\n",
       "      <td>0.122449</td>\n",
       "      <td>0.0</td>\n",
       "      <td>0.0</td>\n",
       "      <td>0.0</td>\n",
       "      <td>0.0</td>\n",
       "      <td>0.0</td>\n",
       "      <td>0.0</td>\n",
       "      <td>0.0</td>\n",
       "      <td>0.0</td>\n",
       "      <td>0.0</td>\n",
       "      <td>0.0</td>\n",
       "      <td>0.0</td>\n",
       "      <td>0.0</td>\n",
       "      <td>0.0</td>\n",
       "      <td>0.0</td>\n",
       "      <td>0.0</td>\n",
       "      <td>0.0</td>\n",
       "      <td>0.0</td>\n",
       "      <td>0.0</td>\n",
       "      <td>0.0</td>\n",
       "      <td>0.0</td>\n",
       "      <td>1.0</td>\n",
       "      <td>0.0</td>\n",
       "      <td>0.0</td>\n",
       "      <td>0.0</td>\n",
       "      <td>0.0</td>\n",
       "      <td>0.0</td>\n",
       "      <td>0.0</td>\n",
       "      <td>0.0</td>\n",
       "      <td>0.0</td>\n",
       "      <td>0.0</td>\n",
       "      <td>0.0</td>\n",
       "      <td>0.0</td>\n",
       "      <td>0.0</td>\n",
       "      <td>0.0</td>\n",
       "      <td>0.0</td>\n",
       "      <td>0.0</td>\n",
       "      <td>0.0</td>\n",
       "      <td>0.0</td>\n",
       "      <td>0.0</td>\n",
       "      <td>0.0</td>\n",
       "      <td>0.0</td>\n",
       "      <td>0.0</td>\n",
       "      <td>0.0</td>\n",
       "      <td>0.0</td>\n",
       "      <td>0.0</td>\n",
       "      <td>0.0</td>\n",
       "      <td>1.0</td>\n",
       "      <td>0.0</td>\n",
       "      <td>1.0</td>\n",
       "      <td>0.0</td>\n",
       "      <td>0.0</td>\n",
       "      <td>1.0</td>\n",
       "      <td>0.0</td>\n",
       "      <td>0.0</td>\n",
       "      <td>1.0</td>\n",
       "      <td>0.0</td>\n",
       "      <td>0.0</td>\n",
       "      <td>0.0</td>\n",
       "      <td>0.0</td>\n",
       "      <td>0.0</td>\n",
       "      <td>0.0</td>\n",
       "      <td>1.0</td>\n",
       "      <td>0.0</td>\n",
       "      <td>0.0</td>\n",
       "      <td>0.0</td>\n",
       "      <td>0.0</td>\n",
       "      <td>0.0</td>\n",
       "      <td>0.0</td>\n",
       "      <td>0.0</td>\n",
       "      <td>0.0</td>\n",
       "      <td>0.0</td>\n",
       "      <td>1.0</td>\n",
       "      <td>0</td>\n",
       "    </tr>\n",
       "    <tr>\n",
       "      <th>4</th>\n",
       "      <td>4</td>\n",
       "      <td>-0.768751</td>\n",
       "      <td>0.475038</td>\n",
       "      <td>0.319123</td>\n",
       "      <td>-0.930981</td>\n",
       "      <td>1.168791</td>\n",
       "      <td>-0.166793</td>\n",
       "      <td>-0.590250</td>\n",
       "      <td>-1.031687</td>\n",
       "      <td>-0.352668</td>\n",
       "      <td>-0.375692</td>\n",
       "      <td>-0.242636</td>\n",
       "      <td>0.598443</td>\n",
       "      <td>0.0</td>\n",
       "      <td>0.0</td>\n",
       "      <td>0.0</td>\n",
       "      <td>0.0</td>\n",
       "      <td>0.0</td>\n",
       "      <td>1.0</td>\n",
       "      <td>0.0</td>\n",
       "      <td>0.0</td>\n",
       "      <td>0.0</td>\n",
       "      <td>0.0</td>\n",
       "      <td>0.0</td>\n",
       "      <td>0.0</td>\n",
       "      <td>0.0</td>\n",
       "      <td>0.0</td>\n",
       "      <td>0.0</td>\n",
       "      <td>0.0</td>\n",
       "      <td>0.0</td>\n",
       "      <td>0.0</td>\n",
       "      <td>0.0</td>\n",
       "      <td>0.0</td>\n",
       "      <td>0.0</td>\n",
       "      <td>0.0</td>\n",
       "      <td>0.0</td>\n",
       "      <td>0.0</td>\n",
       "      <td>0.0</td>\n",
       "      <td>0.0</td>\n",
       "      <td>0.0</td>\n",
       "      <td>0.0</td>\n",
       "      <td>0.0</td>\n",
       "      <td>0.0</td>\n",
       "      <td>0.0</td>\n",
       "      <td>0.0</td>\n",
       "      <td>0.0</td>\n",
       "      <td>0.0</td>\n",
       "      <td>0.0</td>\n",
       "      <td>0.0</td>\n",
       "      <td>0.0</td>\n",
       "      <td>0.0</td>\n",
       "      <td>0.0</td>\n",
       "      <td>0.0</td>\n",
       "      <td>0.0</td>\n",
       "      <td>0.0</td>\n",
       "      <td>0.0</td>\n",
       "      <td>0.0</td>\n",
       "      <td>0.0</td>\n",
       "      <td>0.0</td>\n",
       "      <td>1.0</td>\n",
       "      <td>0.0</td>\n",
       "      <td>1.0</td>\n",
       "      <td>0.0</td>\n",
       "      <td>1.0</td>\n",
       "      <td>0.0</td>\n",
       "      <td>1.0</td>\n",
       "      <td>0.0</td>\n",
       "      <td>0.0</td>\n",
       "      <td>0.0</td>\n",
       "      <td>0.0</td>\n",
       "      <td>0.0</td>\n",
       "      <td>0.0</td>\n",
       "      <td>0.0</td>\n",
       "      <td>1.0</td>\n",
       "      <td>0.0</td>\n",
       "      <td>0.0</td>\n",
       "      <td>0.0</td>\n",
       "      <td>0.0</td>\n",
       "      <td>0.0</td>\n",
       "      <td>0.0</td>\n",
       "      <td>0.0</td>\n",
       "      <td>1.0</td>\n",
       "      <td>0.0</td>\n",
       "      <td>0.0</td>\n",
       "      <td>0.0</td>\n",
       "      <td>0</td>\n",
       "    </tr>\n",
       "  </tbody>\n",
       "</table>\n",
       "</div>"
      ],
      "text/plain": [
       "   Unnamed: 0   VehYear  VehicleAge    VehOdo    VNZIP1  VehBCost  \\\n",
       "0           0 -0.191806   -0.106505  0.157568 -0.930981 -1.065435   \n",
       "1           1 -0.768751    0.475038 -0.401661 -0.930981 -1.523737   \n",
       "2           2 -0.191806   -0.106505 -0.145604 -0.930981 -1.581025   \n",
       "3           3 -0.768751    0.475038  0.652406 -0.930981 -0.664420   \n",
       "4           4 -0.768751    0.475038  0.319123 -0.930981  1.168791   \n",
       "\n",
       "   IsOnlineSale  WarrantyCost  PurchYear  AcquisitionAuctionRatio  \\\n",
       "0     -0.166793      0.194455  -1.031687                -2.244656   \n",
       "1     -0.166793     -1.075463  -1.031687                -1.707170   \n",
       "2     -0.166793     -0.422936  -1.031687                -0.684055   \n",
       "3     -0.166793     -1.135696  -1.031687                -0.367682   \n",
       "4     -0.166793     -0.590250  -1.031687                -0.352668   \n",
       "\n",
       "   AcquisitionRetailRatio  CurrentAuctionRatio  CurrentRetailRatio  \\\n",
       "0               -0.629052            -1.410765           -0.681319   \n",
       "1               -0.674570            -1.864448           -1.236092   \n",
       "2                0.650894            -1.184988           -0.080909   \n",
       "3               -1.387553            -0.136808            0.122449   \n",
       "4               -0.375692            -0.242636            0.598443   \n",
       "\n",
       "   Make_ACURA  Make_BUICK  Make_CADILLAC  Make_CHEVROLET  Make_CHRYSLER  \\\n",
       "0         0.0         0.0            0.0             0.0            0.0   \n",
       "1         0.0         0.0            0.0             0.0            0.0   \n",
       "2         0.0         0.0            0.0             0.0            0.0   \n",
       "3         0.0         0.0            0.0             0.0            0.0   \n",
       "4         0.0         0.0            0.0             0.0            0.0   \n",
       "\n",
       "   Make_DODGE  Make_FORD  Make_GMC  Make_HONDA  Make_HUMMER  Make_HYUNDAI  \\\n",
       "0         1.0        0.0       0.0         0.0          0.0           0.0   \n",
       "1         1.0        0.0       0.0         0.0          0.0           0.0   \n",
       "2         0.0        1.0       0.0         0.0          0.0           0.0   \n",
       "3         0.0        0.0       0.0         0.0          0.0           0.0   \n",
       "4         1.0        0.0       0.0         0.0          0.0           0.0   \n",
       "\n",
       "   Make_INFINITI  Make_ISUZU  Make_JEEP  Make_KIA  Make_LEXUS  Make_LINCOLN  \\\n",
       "0            0.0         0.0        0.0       0.0         0.0           0.0   \n",
       "1            0.0         0.0        0.0       0.0         0.0           0.0   \n",
       "2            0.0         0.0        0.0       0.0         0.0           0.0   \n",
       "3            0.0         0.0        0.0       0.0         0.0           0.0   \n",
       "4            0.0         0.0        0.0       0.0         0.0           0.0   \n",
       "\n",
       "   Make_MAZDA  Make_MERCURY  Make_MINI  Make_MITSUBISHI  Make_NISSAN  \\\n",
       "0         0.0           0.0        0.0              0.0          0.0   \n",
       "1         0.0           0.0        0.0              0.0          0.0   \n",
       "2         0.0           0.0        0.0              0.0          0.0   \n",
       "3         0.0           0.0        0.0              1.0          0.0   \n",
       "4         0.0           0.0        0.0              0.0          0.0   \n",
       "\n",
       "   Make_OLDSMOBILE  Make_PLYMOUTH  Make_PONTIAC  Make_SATURN  Make_SCION  \\\n",
       "0              0.0            0.0           0.0          0.0         0.0   \n",
       "1              0.0            0.0           0.0          0.0         0.0   \n",
       "2              0.0            0.0           0.0          0.0         0.0   \n",
       "3              0.0            0.0           0.0          0.0         0.0   \n",
       "4              0.0            0.0           0.0          0.0         0.0   \n",
       "\n",
       "   Make_SUBARU  Make_SUZUKI  Make_TOYOTA  Make_VOLKSWAGEN  Make_VOLVO  \\\n",
       "0          0.0          0.0          0.0              0.0         0.0   \n",
       "1          0.0          0.0          0.0              0.0         0.0   \n",
       "2          0.0          0.0          0.0              0.0         0.0   \n",
       "3          0.0          0.0          0.0              0.0         0.0   \n",
       "4          0.0          0.0          0.0              0.0         0.0   \n",
       "\n",
       "   Color_BEIGE  Color_BLACK  Color_BLUE  Color_BROWN  Color_GOLD  Color_GREEN  \\\n",
       "0          0.0          0.0         0.0          0.0         0.0          0.0   \n",
       "1          0.0          0.0         0.0          0.0         0.0          0.0   \n",
       "2          0.0          0.0         0.0          0.0         0.0          0.0   \n",
       "3          0.0          0.0         0.0          0.0         0.0          0.0   \n",
       "4          0.0          0.0         0.0          0.0         0.0          0.0   \n",
       "\n",
       "   Color_GREY  Color_MAROON  Color_NOT AVAIL  Color_ORANGE  Color_OTHER  \\\n",
       "0         0.0           1.0              0.0           0.0          0.0   \n",
       "1         0.0           0.0              0.0           0.0          0.0   \n",
       "2         0.0           0.0              0.0           0.0          0.0   \n",
       "3         0.0           0.0              0.0           0.0          0.0   \n",
       "4         0.0           0.0              0.0           0.0          0.0   \n",
       "\n",
       "   Color_PURPLE  Color_RED  Color_SILVER  Color_WHITE  Color_YELLOW  \\\n",
       "0           0.0        0.0           0.0          0.0           0.0   \n",
       "1           0.0        0.0           1.0          0.0           0.0   \n",
       "2           0.0        0.0           1.0          0.0           0.0   \n",
       "3           0.0        0.0           0.0          1.0           0.0   \n",
       "4           0.0        0.0           0.0          1.0           0.0   \n",
       "\n",
       "   Transmission_AUTO  Transmission_MANUAL  WheelType_Alloy  WheelType_Covers  \\\n",
       "0                1.0                  0.0              0.0               1.0   \n",
       "1                1.0                  0.0              1.0               0.0   \n",
       "2                0.0                  1.0              0.0               1.0   \n",
       "3                1.0                  0.0              0.0               1.0   \n",
       "4                1.0                  0.0              1.0               0.0   \n",
       "\n",
       "   Nationality_AMERICAN  Nationality_OTHER  Nationality_OTHER ASIAN  \\\n",
       "0                   1.0                0.0                      0.0   \n",
       "1                   1.0                0.0                      0.0   \n",
       "2                   1.0                0.0                      0.0   \n",
       "3                   0.0                0.0                      1.0   \n",
       "4                   1.0                0.0                      0.0   \n",
       "\n",
       "   Nationality_TOP LINE ASIAN  Size_COMPACT  Size_CROSSOVER  Size_LARGE  \\\n",
       "0                         0.0           0.0             0.0         0.0   \n",
       "1                         0.0           1.0             0.0         0.0   \n",
       "2                         0.0           1.0             0.0         0.0   \n",
       "3                         0.0           0.0             0.0         0.0   \n",
       "4                         0.0           0.0             0.0         0.0   \n",
       "\n",
       "   Size_LARGE SUV  Size_LARGE TRUCK  Size_MEDIUM  Size_MEDIUM SUV  \\\n",
       "0             0.0               0.0          1.0              0.0   \n",
       "1             0.0               0.0          0.0              0.0   \n",
       "2             0.0               0.0          0.0              0.0   \n",
       "3             0.0               0.0          1.0              0.0   \n",
       "4             0.0               1.0          0.0              0.0   \n",
       "\n",
       "   Size_SMALL SUV  Size_SMALL TRUCK  Size_SPECIALTY  Size_SPORTS  Size_VAN  \\\n",
       "0             0.0               0.0             0.0          0.0       0.0   \n",
       "1             0.0               0.0             0.0          0.0       0.0   \n",
       "2             0.0               0.0             0.0          0.0       0.0   \n",
       "3             0.0               0.0             0.0          0.0       0.0   \n",
       "4             0.0               0.0             0.0          0.0       0.0   \n",
       "\n",
       "   TopThreeAmericanName_CHRYSLER  TopThreeAmericanName_FORD  \\\n",
       "0                            1.0                        0.0   \n",
       "1                            1.0                        0.0   \n",
       "2                            0.0                        1.0   \n",
       "3                            0.0                        0.0   \n",
       "4                            1.0                        0.0   \n",
       "\n",
       "   TopThreeAmericanName_GM  TopThreeAmericanName_OTHER  IsBadBuy  \n",
       "0                      0.0                         0.0         0  \n",
       "1                      0.0                         0.0         0  \n",
       "2                      0.0                         0.0         0  \n",
       "3                      0.0                         1.0         0  \n",
       "4                      0.0                         0.0         0  "
      ]
     },
     "execution_count": 2,
     "metadata": {},
     "output_type": "execute_result"
    }
   ],
   "source": [
    "carvana = pd.read_csv(\"final_data.csv\")\n",
    "\n",
    "carvana.head()"
   ]
  },
  {
   "cell_type": "code",
   "execution_count": 3,
   "metadata": {},
   "outputs": [],
   "source": [
    "X = carvana.drop([\"Unnamed: 0\", \"IsBadBuy\"], axis = 1)\n",
    "y = carvana['IsBadBuy']"
   ]
  },
  {
   "cell_type": "markdown",
   "metadata": {},
   "source": [
    "# KREIRANJE MODELA"
   ]
  },
  {
   "cell_type": "code",
   "execution_count": 4,
   "metadata": {},
   "outputs": [],
   "source": [
    "from sklearn.model_selection import train_test_split\n",
    "X_train, X_test, y_train, y_test = train_test_split(X, y, test_size = 0.3, random_state=2019)"
   ]
  },
  {
   "cell_type": "markdown",
   "metadata": {},
   "source": [
    "#### STABLO ODLUCIVANJA"
   ]
  },
  {
   "cell_type": "code",
   "execution_count": 5,
   "metadata": {},
   "outputs": [
    {
     "data": {
      "text/plain": [
       "GridSearchCV(cv=5, estimator=DecisionTreeClassifier(),\n",
       "             param_grid={'max_depth': [10, 15, 20, 25],\n",
       "                         'max_features': [3, 4, 5, 10, 15, 20, 30],\n",
       "                         'min_samples_leaf': [10, 15, 20, 25, 30]},\n",
       "             scoring='roc_auc')"
      ]
     },
     "execution_count": 5,
     "metadata": {},
     "output_type": "execute_result"
    }
   ],
   "source": [
    "\n",
    "# Grid -> napravice matricu svih mogucih kombinacija (7*5*3) (iscrno pretrazuje)\n",
    "\n",
    "from sklearn.tree import DecisionTreeClassifier\n",
    "from sklearn.model_selection import GridSearchCV\n",
    "\n",
    "parameters = {'max_features': [3,4,5,10,15,20,30], 'min_samples_leaf': [10,15,20,25,30], 'max_depth': [10,15,20,25]}\n",
    "grid = GridSearchCV(DecisionTreeClassifier(), parameters, cv = 5, scoring='roc_auc')\n",
    "\n",
    "grid.fit(X_train, y_train)"
   ]
  },
  {
   "cell_type": "markdown",
   "metadata": {},
   "source": [
    "Istampajmo optimalne hiperparametre i optimalan model:"
   ]
  },
  {
   "cell_type": "code",
   "execution_count": 6,
   "metadata": {},
   "outputs": [
    {
     "data": {
      "text/plain": [
       "{'max_depth': 10, 'max_features': 10, 'min_samples_leaf': 30}"
      ]
     },
     "execution_count": 6,
     "metadata": {},
     "output_type": "execute_result"
    }
   ],
   "source": [
    "grid.best_params_"
   ]
  },
  {
   "cell_type": "code",
   "execution_count": 7,
   "metadata": {},
   "outputs": [
    {
     "data": {
      "text/plain": [
       "DecisionTreeClassifier(max_depth=10, max_features=10, min_samples_leaf=30)"
      ]
     },
     "execution_count": 7,
     "metadata": {},
     "output_type": "execute_result"
    }
   ],
   "source": [
    "grid.best_estimator_"
   ]
  },
  {
   "cell_type": "markdown",
   "metadata": {},
   "source": [
    "Izgradimo optimalan model stabla:"
   ]
  },
  {
   "cell_type": "code",
   "execution_count": 8,
   "metadata": {},
   "outputs": [
    {
     "data": {
      "text/plain": [
       "DecisionTreeClassifier(max_depth=10, max_features=10, min_samples_leaf=30)"
      ]
     },
     "execution_count": 8,
     "metadata": {},
     "output_type": "execute_result"
    }
   ],
   "source": [
    "from sklearn.model_selection import cross_val_score\n",
    "model_tree = grid.best_estimator_\n",
    "model_tree.fit(X_train, y_train)"
   ]
  },
  {
   "cell_type": "markdown",
   "metadata": {},
   "source": [
    "Vrednost auc metrike na train delu:"
   ]
  },
  {
   "cell_type": "code",
   "execution_count": 9,
   "metadata": {},
   "outputs": [
    {
     "data": {
      "text/plain": [
       "0.6227714962156741"
      ]
     },
     "execution_count": 9,
     "metadata": {},
     "output_type": "execute_result"
    }
   ],
   "source": [
    "scores = cross_val_score(model_tree, X_train, y_train, cv = 10, scoring = 'roc_auc')\n",
    "scores.mean()"
   ]
  },
  {
   "cell_type": "markdown",
   "metadata": {},
   "source": [
    "Izgradimo matricu konfuzije i sracunajmo metrike:"
   ]
  },
  {
   "cell_type": "code",
   "execution_count": 10,
   "metadata": {},
   "outputs": [
    {
     "data": {
      "text/plain": [
       "array([[1454,  311],\n",
       "       [ 191,   84]], dtype=int64)"
      ]
     },
     "execution_count": 10,
     "metadata": {},
     "output_type": "execute_result"
    }
   ],
   "source": [
    "from sklearn.metrics import confusion_matrix\n",
    "from sklearn.metrics import precision_score, recall_score, f1_score, accuracy_score, roc_auc_score\n",
    "y_pred_tree = model_tree.predict_proba(X_test)[:, 1] >= 0.2\n",
    "y_pred_tree\n",
    "\n",
    "confusion_matrix(y_test, y_pred_tree)"
   ]
  },
  {
   "cell_type": "markdown",
   "metadata": {},
   "source": [
    "Funckija za racunanje evaluacionih metrika:"
   ]
  },
  {
   "cell_type": "code",
   "execution_count": 11,
   "metadata": {},
   "outputs": [],
   "source": [
    "def print_performance(y, y_pred):\n",
    "    print(f'Accuracy : {accuracy_score(y, y_pred)}')\n",
    "    print(f'Precision : {precision_score(y, y_pred)}')\n",
    "    print(f'Recall : {recall_score(y, y_pred)}')\n",
    "    print(f'F1 : {f1_score(y, y_pred)}')\n",
    "    "
   ]
  },
  {
   "cell_type": "markdown",
   "metadata": {},
   "source": [
    "Metrike za stablo:"
   ]
  },
  {
   "cell_type": "code",
   "execution_count": 12,
   "metadata": {},
   "outputs": [
    {
     "name": "stdout",
     "output_type": "stream",
     "text": [
      "Accuracy : 0.753921568627451\n",
      "Precision : 0.21265822784810126\n",
      "Recall : 0.3054545454545455\n",
      "F1 : 0.2507462686567164\n"
     ]
    }
   ],
   "source": [
    "print_performance(y_test, y_pred_tree)"
   ]
  },
  {
   "cell_type": "markdown",
   "metadata": {},
   "source": [
    "Auc na test delu:"
   ]
  },
  {
   "cell_type": "code",
   "execution_count": 13,
   "metadata": {},
   "outputs": [
    {
     "data": {
      "text/plain": [
       "0.5646252897244398"
      ]
     },
     "execution_count": 13,
     "metadata": {},
     "output_type": "execute_result"
    }
   ],
   "source": [
    "roc_auc_score(y_test, y_pred_tree)"
   ]
  },
  {
   "cell_type": "markdown",
   "metadata": {},
   "source": [
    "Hajde da ispititamo podoblast oko optimalnih hiperparametara od strane GridSearchCV():"
   ]
  },
  {
   "cell_type": "code",
   "execution_count": 14,
   "metadata": {},
   "outputs": [
    {
     "data": {
      "text/plain": [
       "{'max_depth': 15, 'max_features': 5, 'min_samples_leaf': 21}"
      ]
     },
     "execution_count": 14,
     "metadata": {},
     "output_type": "execute_result"
    }
   ],
   "source": [
    "\n",
    "tree_params = {'max_features': [3,4,5,6,7,8], 'min_samples_leaf': [18,19,20,21,22], 'max_depth': [12,13,14,15,16,17,18]}\n",
    "\n",
    "grid = GridSearchCV(DecisionTreeClassifier(), tree_params, cv = 5, scoring='roc_auc')\n",
    "grid.fit(X_train, y_train)\n",
    "\n",
    "grid.best_params_"
   ]
  },
  {
   "cell_type": "markdown",
   "metadata": {},
   "source": [
    "Izgradimo model sa tim otpimalnim hiperparametrima:"
   ]
  },
  {
   "cell_type": "code",
   "execution_count": 15,
   "metadata": {},
   "outputs": [
    {
     "data": {
      "text/plain": [
       "DecisionTreeClassifier(max_depth=15, max_features=5, min_samples_leaf=21)"
      ]
     },
     "execution_count": 15,
     "metadata": {},
     "output_type": "execute_result"
    }
   ],
   "source": [
    "model_tree = grid.best_estimator_\n",
    "model_tree.fit(X_train, y_train)\n",
    "\n",
    "# tu je negde"
   ]
  },
  {
   "cell_type": "markdown",
   "metadata": {},
   "source": [
    "AUC na train delu:"
   ]
  },
  {
   "cell_type": "code",
   "execution_count": 16,
   "metadata": {},
   "outputs": [
    {
     "data": {
      "text/plain": [
       "0.6096739636485076"
      ]
     },
     "execution_count": 16,
     "metadata": {},
     "output_type": "execute_result"
    }
   ],
   "source": [
    "scores = cross_val_score(model_tree, X_train, y_train, cv = 10, scoring = 'roc_auc')\n",
    "scores.mean()"
   ]
  },
  {
   "cell_type": "markdown",
   "metadata": {},
   "source": [
    "AUC na test delu:"
   ]
  },
  {
   "cell_type": "code",
   "execution_count": 17,
   "metadata": {},
   "outputs": [
    {
     "data": {
      "text/plain": [
       "0.5646252897244398"
      ]
     },
     "execution_count": 17,
     "metadata": {},
     "output_type": "execute_result"
    }
   ],
   "source": [
    "\n",
    "roc_auc_score(y_test, y_pred_tree)"
   ]
  },
  {
   "cell_type": "markdown",
   "metadata": {},
   "source": [
    "#### LOGISTICKA REGRESIJA"
   ]
  },
  {
   "cell_type": "code",
   "execution_count": 18,
   "metadata": {},
   "outputs": [
    {
     "data": {
      "text/plain": [
       "GridSearchCV(cv=10, estimator=LogisticRegression(solver='liblinear'),\n",
       "             param_grid={'C': array([1.00000000e-04, 1.83298071e-04, 3.35981829e-04, 6.15848211e-04,\n",
       "       1.12883789e-03, 2.06913808e-03, 3.79269019e-03, 6.95192796e-03,\n",
       "       1.27427499e-02, 2.33572147e-02, 4.28133240e-02, 7.84759970e-02,\n",
       "       1.43844989e-01, 2.63665090e-01, 4.83293024e-01, 8.85866790e-01,\n",
       "       1.62377674e+00, 2.97635144e+00, 5.45559478e+00, 1.00000000e+01]),\n",
       "                         'penalty': ['l1', 'l2']},\n",
       "             scoring='roc_auc')"
      ]
     },
     "execution_count": 18,
     "metadata": {},
     "output_type": "execute_result"
    }
   ],
   "source": [
    "\n",
    "from sklearn.linear_model import LogisticRegression\n",
    "\n",
    "logistic_parameters = {'C' : np.logspace(start = -4, stop = 1, num = 20), 'penalty' : ['l1', 'l2']}\n",
    "grid = GridSearchCV(LogisticRegression(solver = \"liblinear\"), logistic_parameters, cv = 10, scoring = \"roc_auc\")\n",
    "\n",
    "grid.fit(X_train, y_train)"
   ]
  },
  {
   "cell_type": "markdown",
   "metadata": {},
   "source": [
    "Najbolja kombinacija hiperparametara C i penalty:"
   ]
  },
  {
   "cell_type": "code",
   "execution_count": 19,
   "metadata": {},
   "outputs": [
    {
     "data": {
      "text/plain": [
       "{'C': 0.4832930238571752, 'penalty': 'l1'}"
      ]
     },
     "execution_count": 19,
     "metadata": {},
     "output_type": "execute_result"
    }
   ],
   "source": [
    "grid.best_params_"
   ]
  },
  {
   "cell_type": "markdown",
   "metadata": {},
   "source": [
    "Model logisticke regresije izgradjen sa optimalno podesenim hiperparametrima:"
   ]
  },
  {
   "cell_type": "code",
   "execution_count": 20,
   "metadata": {},
   "outputs": [
    {
     "data": {
      "text/plain": [
       "LogisticRegression(C=0.4832930238571752, penalty='l1', solver='liblinear')"
      ]
     },
     "execution_count": 20,
     "metadata": {},
     "output_type": "execute_result"
    }
   ],
   "source": [
    "grid.best_estimator_"
   ]
  },
  {
   "cell_type": "markdown",
   "metadata": {},
   "source": [
    "Vrednosti koje su probane za C i penalty:"
   ]
  },
  {
   "cell_type": "code",
   "execution_count": 21,
   "metadata": {},
   "outputs": [
    {
     "data": {
      "text/plain": [
       "[{'C': 0.0001, 'penalty': 'l1'},\n",
       " {'C': 0.0001, 'penalty': 'l2'},\n",
       " {'C': 0.00018329807108324357, 'penalty': 'l1'},\n",
       " {'C': 0.00018329807108324357, 'penalty': 'l2'},\n",
       " {'C': 0.0003359818286283781, 'penalty': 'l1'},\n",
       " {'C': 0.0003359818286283781, 'penalty': 'l2'},\n",
       " {'C': 0.0006158482110660267, 'penalty': 'l1'},\n",
       " {'C': 0.0006158482110660267, 'penalty': 'l2'},\n",
       " {'C': 0.0011288378916846883, 'penalty': 'l1'},\n",
       " {'C': 0.0011288378916846883, 'penalty': 'l2'},\n",
       " {'C': 0.00206913808111479, 'penalty': 'l1'},\n",
       " {'C': 0.00206913808111479, 'penalty': 'l2'},\n",
       " {'C': 0.00379269019073225, 'penalty': 'l1'},\n",
       " {'C': 0.00379269019073225, 'penalty': 'l2'},\n",
       " {'C': 0.0069519279617756054, 'penalty': 'l1'},\n",
       " {'C': 0.0069519279617756054, 'penalty': 'l2'},\n",
       " {'C': 0.012742749857031334, 'penalty': 'l1'},\n",
       " {'C': 0.012742749857031334, 'penalty': 'l2'},\n",
       " {'C': 0.023357214690901212, 'penalty': 'l1'},\n",
       " {'C': 0.023357214690901212, 'penalty': 'l2'},\n",
       " {'C': 0.04281332398719392, 'penalty': 'l1'},\n",
       " {'C': 0.04281332398719392, 'penalty': 'l2'},\n",
       " {'C': 0.07847599703514607, 'penalty': 'l1'},\n",
       " {'C': 0.07847599703514607, 'penalty': 'l2'},\n",
       " {'C': 0.14384498882876628, 'penalty': 'l1'},\n",
       " {'C': 0.14384498882876628, 'penalty': 'l2'},\n",
       " {'C': 0.26366508987303583, 'penalty': 'l1'},\n",
       " {'C': 0.26366508987303583, 'penalty': 'l2'},\n",
       " {'C': 0.4832930238571752, 'penalty': 'l1'},\n",
       " {'C': 0.4832930238571752, 'penalty': 'l2'},\n",
       " {'C': 0.8858667904100823, 'penalty': 'l1'},\n",
       " {'C': 0.8858667904100823, 'penalty': 'l2'},\n",
       " {'C': 1.623776739188721, 'penalty': 'l1'},\n",
       " {'C': 1.623776739188721, 'penalty': 'l2'},\n",
       " {'C': 2.9763514416313193, 'penalty': 'l1'},\n",
       " {'C': 2.9763514416313193, 'penalty': 'l2'},\n",
       " {'C': 5.455594781168514, 'penalty': 'l1'},\n",
       " {'C': 5.455594781168514, 'penalty': 'l2'},\n",
       " {'C': 10.0, 'penalty': 'l1'},\n",
       " {'C': 10.0, 'penalty': 'l2'}]"
      ]
     },
     "execution_count": 21,
     "metadata": {},
     "output_type": "execute_result"
    }
   ],
   "source": [
    "grid.cv_results_['params']"
   ]
  },
  {
   "cell_type": "markdown",
   "metadata": {},
   "source": [
    "Vrednosti metrike auc dobijene za razlicite kombinacije C i penalty:"
   ]
  },
  {
   "cell_type": "code",
   "execution_count": 22,
   "metadata": {},
   "outputs": [
    {
     "data": {
      "text/plain": [
       "array([0.5       , 0.6098608 , 0.5       , 0.61301831, 0.5       ,\n",
       "       0.61800691, 0.5       , 0.62484781, 0.5       , 0.63418523,\n",
       "       0.5       , 0.64472668, 0.5       , 0.65435055, 0.62883981,\n",
       "       0.66321679, 0.66100763, 0.66985707, 0.66749652, 0.67407191,\n",
       "       0.6695373 , 0.67697624, 0.6726544 , 0.67773503, 0.67606399,\n",
       "       0.67780303, 0.67649434, 0.67768811, 0.67795923, 0.67707209,\n",
       "       0.67675185, 0.67612814, 0.67485213, 0.67557026, 0.67431522,\n",
       "       0.67482185, 0.67408806, 0.67415329, 0.67335808, 0.67331873])"
      ]
     },
     "execution_count": 22,
     "metadata": {},
     "output_type": "execute_result"
    }
   ],
   "source": [
    "grid.cv_results_['mean_test_score']\n"
   ]
  },
  {
   "cell_type": "markdown",
   "metadata": {},
   "source": [
    "Kreirajmo model logisticke regresije sa optimalno podesenim hiperparametrima C i penalty:"
   ]
  },
  {
   "cell_type": "code",
   "execution_count": 23,
   "metadata": {},
   "outputs": [
    {
     "data": {
      "text/plain": [
       "LogisticRegression(C=0.4832930238571752, penalty='l1', solver='liblinear')"
      ]
     },
     "execution_count": 23,
     "metadata": {},
     "output_type": "execute_result"
    }
   ],
   "source": [
    "lr = grid.best_estimator_\n",
    "lr.fit(X_train, y_train)"
   ]
  },
  {
   "cell_type": "markdown",
   "metadata": {},
   "source": [
    "Vrednost za auc na train delu:"
   ]
  },
  {
   "cell_type": "code",
   "execution_count": 24,
   "metadata": {},
   "outputs": [
    {
     "data": {
      "text/plain": [
       "0.6779470413239161"
      ]
     },
     "execution_count": 24,
     "metadata": {},
     "output_type": "execute_result"
    }
   ],
   "source": [
    "cross_val_score(lr, X_train, y_train, cv = 10, scoring = 'roc_auc').mean()"
   ]
  },
  {
   "cell_type": "markdown",
   "metadata": {},
   "source": [
    "Posmatrajmo kako se ponasa auc u odnosu na vrednost C. Plava linija oznacava vrednost za auc kao f-ju C-a na train delu , a narandzasta linija oznacava vrednost za auc kao f-ju C-a na test delu. Kako povecavamo C, nas model postaje sve pretreniraniji, jer se sa povecanjem vrednosti za parametar C stvara jaz izmedju rezultata na train i test delu (izrazito je bolji auc na train-u).\n"
   ]
  },
  {
   "cell_type": "code",
   "execution_count": 25,
   "metadata": {},
   "outputs": [
    {
     "name": "stderr",
     "output_type": "stream",
     "text": [
      "C:\\Users\\Korisnik\\anaconda3\\lib\\site-packages\\sklearn\\utils\\validation.py:67: FutureWarning: Pass param_name=C, param_range=[1.00000000e-04 1.83298071e-04 3.35981829e-04 6.15848211e-04\n",
      " 1.12883789e-03 2.06913808e-03 3.79269019e-03 6.95192796e-03\n",
      " 1.27427499e-02 2.33572147e-02 4.28133240e-02 7.84759970e-02\n",
      " 1.43844989e-01 2.63665090e-01 4.83293024e-01 8.85866790e-01\n",
      " 1.62377674e+00 2.97635144e+00 5.45559478e+00 1.00000000e+01] as keyword args. From version 0.25 passing these as positional arguments will result in an error\n",
      "  warnings.warn(\"Pass {} as keyword args. From version 0.25 \"\n"
     ]
    },
    {
     "data": {
      "text/plain": [
       "<AxesSubplot:xlabel='C'>"
      ]
     },
     "execution_count": 25,
     "metadata": {},
     "output_type": "execute_result"
    },
    {
     "data": {
      "image/png": "[encoded data removed]",
      "text/plain": [
       "<Figure size 432x288 with 1 Axes>"
      ]
     },
     "metadata": {
      "needs_background": "light"
     },
     "output_type": "display_data"
    }
   ],
   "source": [
    "from sklearn.model_selection import validation_curve\n",
    "import seaborn as sns\n",
    "\n",
    "train_scores, valid_scores = validation_curve(LogisticRegression(solver='liblinear'), X, y, \"C\", logistic_parameters['C'],cv=10, scoring = \"roc_auc\")\n",
    "\n",
    "viz = pd.DataFrame([np.array(logistic_parameters['C']),train_scores.mean(axis=1),valid_scores.mean(axis=1)]).T\n",
    "viz.columns = ['C','train_scores','valid_scores']\n",
    "viz = viz.set_index('C')\n",
    "sns.lineplot(data=viz, palette=\"tab10\", linewidth=2.5)"
   ]
  },
  {
   "cell_type": "markdown",
   "metadata": {},
   "source": [
    "Pomocu RandomizedSearchCV cemo malo bolje pretraziti okolinu optimalne vrednosti za C. Uniformno cemo uzimati neku od vrednosti za C u intervalu (0.3, 1), a za penalty cemo slucajno uzimati jednu od vrednosti (l1, l2). Biracemo 100 tacaka i kros-validacijom utvrditi koja je to nasa otpimalna kombinacija hiperparametara."
   ]
  },
  {
   "cell_type": "code",
   "execution_count": 26,
   "metadata": {},
   "outputs": [
    {
     "data": {
      "text/plain": [
       "RandomizedSearchCV(cv=10, estimator=LogisticRegression(solver='liblinear'),\n",
       "                   n_iter=100,\n",
       "                   param_distributions={'C': <scipy.stats._distn_infrastructure.rv_frozen object at 0x00000268E974CE20>,\n",
       "                                        'penalty': ['l1', 'l2']},\n",
       "                   scoring='roc_auc')"
      ]
     },
     "execution_count": 26,
     "metadata": {},
     "output_type": "execute_result"
    }
   ],
   "source": [
    "from sklearn.model_selection import RandomizedSearchCV\n",
    "import scipy.stats\n",
    "\n",
    "logistic_params = {'C' : scipy.stats.uniform(0.3, 1),\n",
    "                  'penalty' : ['l1', 'l2']}\n",
    "\n",
    "number_iterations = 100\n",
    "\n",
    "random_s = RandomizedSearchCV(LogisticRegression(solver=\"liblinear\"), param_distributions = logistic_params, \n",
    "                              n_iter = number_iterations, cv = 10, scoring = \"roc_auc\")\n",
    "\n",
    "random_s.fit(X_train, y_train)"
   ]
  },
  {
   "cell_type": "markdown",
   "metadata": {},
   "source": [
    "Najbolja kombinacija hiperparametara C i penalty:"
   ]
  },
  {
   "cell_type": "code",
   "execution_count": 27,
   "metadata": {
    "scrolled": true
   },
   "outputs": [
    {
     "data": {
      "text/plain": [
       "{'C': 0.5176837053578198, 'penalty': 'l1'}"
      ]
     },
     "execution_count": 27,
     "metadata": {},
     "output_type": "execute_result"
    }
   ],
   "source": [
    "random_s.best_params_"
   ]
  },
  {
   "cell_type": "markdown",
   "metadata": {},
   "source": [
    "Model sa najboljim vrednostima hiperparametara C i penalty:"
   ]
  },
  {
   "cell_type": "code",
   "execution_count": 28,
   "metadata": {},
   "outputs": [
    {
     "data": {
      "text/plain": [
       "LogisticRegression(C=0.5176837053578198, penalty='l1', solver='liblinear')"
      ]
     },
     "execution_count": 28,
     "metadata": {},
     "output_type": "execute_result"
    }
   ],
   "source": [
    "random_s.best_estimator_"
   ]
  },
  {
   "cell_type": "markdown",
   "metadata": {},
   "source": [
    "Vrednosti hiperparametara koje su isprobane:"
   ]
  },
  {
   "cell_type": "code",
   "execution_count": 29,
   "metadata": {},
   "outputs": [
    {
     "data": {
      "text/plain": [
       "[{'C': 1.182262743820696, 'penalty': 'l1'},\n",
       " {'C': 1.0720100166378164, 'penalty': 'l1'},\n",
       " {'C': 0.8015985837344308, 'penalty': 'l1'},\n",
       " {'C': 0.5525863787497103, 'penalty': 'l2'},\n",
       " {'C': 0.373271864780297, 'penalty': 'l1'},\n",
       " {'C': 0.43458265512829214, 'penalty': 'l1'},\n",
       " {'C': 1.1698584952923152, 'penalty': 'l2'},\n",
       " {'C': 0.6080995311594573, 'penalty': 'l2'},\n",
       " {'C': 1.1263687613838147, 'penalty': 'l1'},\n",
       " {'C': 0.796723236367199, 'penalty': 'l1'},\n",
       " {'C': 0.8813695815078841, 'penalty': 'l2'},\n",
       " {'C': 0.8856409583963469, 'penalty': 'l1'},\n",
       " {'C': 0.9607685999793523, 'penalty': 'l1'},\n",
       " {'C': 1.277215663631735, 'penalty': 'l2'},\n",
       " {'C': 0.5176837053578198, 'penalty': 'l1'},\n",
       " {'C': 0.3167017582240112, 'penalty': 'l1'},\n",
       " {'C': 0.9896759351750746, 'penalty': 'l1'},\n",
       " {'C': 1.0606292589497819, 'penalty': 'l1'},\n",
       " {'C': 1.2607910129421567, 'penalty': 'l1'},\n",
       " {'C': 0.5509660791677498, 'penalty': 'l2'},\n",
       " {'C': 0.45992814795851383, 'penalty': 'l2'},\n",
       " {'C': 0.82383818498233, 'penalty': 'l2'},\n",
       " {'C': 1.1033312250293537, 'penalty': 'l1'},\n",
       " {'C': 0.46469008312679067, 'penalty': 'l2'},\n",
       " {'C': 0.9503340430611305, 'penalty': 'l2'},\n",
       " {'C': 0.7507399842801425, 'penalty': 'l1'},\n",
       " {'C': 0.5626157251959725, 'penalty': 'l2'},\n",
       " {'C': 0.9516816491460842, 'penalty': 'l1'},\n",
       " {'C': 0.8776721186852039, 'penalty': 'l2'},\n",
       " {'C': 1.018985948903899, 'penalty': 'l2'},\n",
       " {'C': 1.2457711714609963, 'penalty': 'l1'},\n",
       " {'C': 0.5840412553381542, 'penalty': 'l1'},\n",
       " {'C': 1.2541175680122254, 'penalty': 'l1'},\n",
       " {'C': 0.8853384150688051, 'penalty': 'l1'},\n",
       " {'C': 1.1646243888953194, 'penalty': 'l1'},\n",
       " {'C': 0.48414642926717993, 'penalty': 'l2'},\n",
       " {'C': 0.5063761620875118, 'penalty': 'l1'},\n",
       " {'C': 0.8636448314819665, 'penalty': 'l2'},\n",
       " {'C': 0.4589166515816973, 'penalty': 'l1'},\n",
       " {'C': 0.33868301990855826, 'penalty': 'l2'},\n",
       " {'C': 0.9652127452260855, 'penalty': 'l1'},\n",
       " {'C': 0.475906785467691, 'penalty': 'l1'},\n",
       " {'C': 0.32608907607336163, 'penalty': 'l1'},\n",
       " {'C': 0.31481845818593185, 'penalty': 'l2'},\n",
       " {'C': 0.8081096643499024, 'penalty': 'l2'},\n",
       " {'C': 0.7634033460961038, 'penalty': 'l2'},\n",
       " {'C': 0.7076034526037487, 'penalty': 'l2'},\n",
       " {'C': 1.091768763155993, 'penalty': 'l2'},\n",
       " {'C': 1.2082793077028275, 'penalty': 'l1'},\n",
       " {'C': 1.0035862906283826, 'penalty': 'l2'},\n",
       " {'C': 0.9864894762045691, 'penalty': 'l2'},\n",
       " {'C': 1.1903570156919818, 'penalty': 'l1'},\n",
       " {'C': 0.9379907814793789, 'penalty': 'l2'},\n",
       " {'C': 0.5389186625315223, 'penalty': 'l2'},\n",
       " {'C': 0.553753518695937, 'penalty': 'l2'},\n",
       " {'C': 0.45685067646166205, 'penalty': 'l1'},\n",
       " {'C': 0.9672908588173383, 'penalty': 'l2'},\n",
       " {'C': 0.4104222191154238, 'penalty': 'l1'},\n",
       " {'C': 0.41275667064519755, 'penalty': 'l2'},\n",
       " {'C': 0.5557835306708339, 'penalty': 'l1'},\n",
       " {'C': 0.5338774897275012, 'penalty': 'l1'},\n",
       " {'C': 0.5579674050826902, 'penalty': 'l1'},\n",
       " {'C': 0.5890646128911887, 'penalty': 'l1'},\n",
       " {'C': 0.49637893025943375, 'penalty': 'l2'},\n",
       " {'C': 0.8973885532660169, 'penalty': 'l2'},\n",
       " {'C': 0.8691017105233394, 'penalty': 'l1'},\n",
       " {'C': 1.2049035346196686, 'penalty': 'l1'},\n",
       " {'C': 0.9770757834482784, 'penalty': 'l2'},\n",
       " {'C': 1.2774911435806058, 'penalty': 'l1'},\n",
       " {'C': 0.8943669337541182, 'penalty': 'l1'},\n",
       " {'C': 1.2105325786882053, 'penalty': 'l2'},\n",
       " {'C': 0.8265199095179248, 'penalty': 'l1'},\n",
       " {'C': 1.2496737569789593, 'penalty': 'l2'},\n",
       " {'C': 1.0929553246668506, 'penalty': 'l1'},\n",
       " {'C': 0.5043752016061434, 'penalty': 'l1'},\n",
       " {'C': 0.6357290530608852, 'penalty': 'l1'},\n",
       " {'C': 1.1005277511885247, 'penalty': 'l2'},\n",
       " {'C': 1.2753107896922242, 'penalty': 'l1'},\n",
       " {'C': 0.8552590179849349, 'penalty': 'l1'},\n",
       " {'C': 0.4365904761744271, 'penalty': 'l1'},\n",
       " {'C': 0.36638306713044616, 'penalty': 'l1'},\n",
       " {'C': 1.0693651984296548, 'penalty': 'l1'},\n",
       " {'C': 0.9775758311991989, 'penalty': 'l2'},\n",
       " {'C': 0.4737061788636639, 'penalty': 'l1'},\n",
       " {'C': 1.2438617055043175, 'penalty': 'l1'},\n",
       " {'C': 0.9970200767077975, 'penalty': 'l2'},\n",
       " {'C': 1.1995865541175545, 'penalty': 'l2'},\n",
       " {'C': 0.3817665598207349, 'penalty': 'l1'},\n",
       " {'C': 0.7805387033112912, 'penalty': 'l2'},\n",
       " {'C': 1.1666365542273522, 'penalty': 'l2'},\n",
       " {'C': 1.0264678130925848, 'penalty': 'l2'},\n",
       " {'C': 0.5521433261264272, 'penalty': 'l1'},\n",
       " {'C': 1.2501282697242804, 'penalty': 'l1'},\n",
       " {'C': 0.5560581262373012, 'penalty': 'l1'},\n",
       " {'C': 0.9272699066382164, 'penalty': 'l2'},\n",
       " {'C': 0.5751776823076697, 'penalty': 'l1'},\n",
       " {'C': 0.609099730981639, 'penalty': 'l1'},\n",
       " {'C': 0.4800584024253523, 'penalty': 'l2'},\n",
       " {'C': 0.5201250373528514, 'penalty': 'l1'},\n",
       " {'C': 1.1297282439325145, 'penalty': 'l2'}]"
      ]
     },
     "execution_count": 29,
     "metadata": {},
     "output_type": "execute_result"
    }
   ],
   "source": [
    "random_s.cv_results_['params']"
   ]
  },
  {
   "cell_type": "markdown",
   "metadata": {},
   "source": [
    "Kreirajmo model logisticke regresije sa otpimalno podesenim hiperparametrima:"
   ]
  },
  {
   "cell_type": "code",
   "execution_count": 30,
   "metadata": {},
   "outputs": [
    {
     "data": {
      "text/plain": [
       "LogisticRegression(C=0.5176837053578198, penalty='l1', solver='liblinear')"
      ]
     },
     "execution_count": 30,
     "metadata": {},
     "output_type": "execute_result"
    }
   ],
   "source": [
    "lr = random_s.best_estimator_\n",
    "lr.fit(X_train,y_train)"
   ]
  },
  {
   "cell_type": "markdown",
   "metadata": {},
   "source": [
    "Vrednost auc na train delu (ocenjen kroz kros validaciju):"
   ]
  },
  {
   "cell_type": "code",
   "execution_count": 31,
   "metadata": {},
   "outputs": [
    {
     "data": {
      "text/plain": [
       "0.6781660045171163"
      ]
     },
     "execution_count": 31,
     "metadata": {},
     "output_type": "execute_result"
    }
   ],
   "source": [
    "cross_val_score(lr, X_train, y_train, cv = 10, scoring = 'roc_auc').mean()"
   ]
  },
  {
   "cell_type": "markdown",
   "metadata": {},
   "source": [
    "Kreiranje predikcija i matrice konfuzije na test delu:"
   ]
  },
  {
   "cell_type": "code",
   "execution_count": 32,
   "metadata": {},
   "outputs": [
    {
     "data": {
      "text/plain": [
       "array([[900, 865],\n",
       "       [ 75, 200]], dtype=int64)"
      ]
     },
     "execution_count": 32,
     "metadata": {},
     "output_type": "execute_result"
    }
   ],
   "source": [
    "y_pred_lr = lr.predict_proba(X_test)[:, 1] >= 0.1\n",
    "y_pred_lr\n",
    "\n",
    "confusion_matrix(y_test, y_pred_lr)"
   ]
  },
  {
   "cell_type": "markdown",
   "metadata": {},
   "source": [
    "Vrednost auc na test delu:"
   ]
  },
  {
   "cell_type": "code",
   "execution_count": 33,
   "metadata": {},
   "outputs": [
    {
     "data": {
      "text/plain": [
       "0.6185938707185166"
      ]
     },
     "execution_count": 33,
     "metadata": {},
     "output_type": "execute_result"
    }
   ],
   "source": [
    "roc_auc_score(y_test, y_pred_lr)"
   ]
  },
  {
   "cell_type": "markdown",
   "metadata": {},
   "source": [
    "Racunanje standardnih evaluacionih metrika na test delu:"
   ]
  },
  {
   "cell_type": "code",
   "execution_count": 34,
   "metadata": {},
   "outputs": [
    {
     "name": "stdout",
     "output_type": "stream",
     "text": [
      "Accuracy : 0.5392156862745098\n",
      "Precision : 0.18779342723004694\n",
      "Recall : 0.7272727272727273\n",
      "F1 : 0.29850746268656714\n"
     ]
    }
   ],
   "source": [
    "print_performance(y_test, y_pred_lr)"
   ]
  },
  {
   "cell_type": "markdown",
   "metadata": {},
   "source": [
    "Koeficijenti uz promenljive kod optimalnog modela:"
   ]
  },
  {
   "cell_type": "code",
   "execution_count": 35,
   "metadata": {},
   "outputs": [
    {
     "data": {
      "text/plain": [
       "array([[ 0.        ,  0.18447419,  0.01773199, -0.04547836, -0.46271684,\n",
       "         0.0227213 ,  0.04598103,  0.20782951,  0.        ,  0.        ,\n",
       "         0.26624719, -0.22228836,  0.        ,  0.        ,  0.        ,\n",
       "         0.        ,  0.31609175,  0.        ,  0.        ,  0.        ,\n",
       "         0.        ,  0.        , -0.46356881,  1.17775235,  0.        ,\n",
       "         0.        ,  0.        ,  0.        ,  0.        , -0.30018657,\n",
       "         0.        ,  0.        , -0.52575138,  0.        ,  0.        ,\n",
       "         0.        , -0.04886646,  0.36083028,  0.        ,  0.        ,\n",
       "         0.        ,  0.        ,  0.        ,  0.        ,  0.        ,\n",
       "        -0.11797311,  0.        ,  0.        ,  0.17053004, -0.10262882,\n",
       "         0.        ,  0.        ,  0.        ,  0.        ,  0.        ,\n",
       "         0.        ,  0.        , -0.18942262, -0.03446284,  0.        ,\n",
       "         0.        , -0.75945129,  0.        , -0.71984626, -0.35578601,\n",
       "         0.        , -0.13909064,  0.        ,  0.        , -0.04390246,\n",
       "        -0.58434491,  0.25488518,  0.        , -0.25268034,  0.12024192,\n",
       "         0.35717044,  0.02078441,  0.27483626, -0.10516505, -0.07744385,\n",
       "         0.0135698 ,  0.        , -0.10161011,  0.        ]])"
      ]
     },
     "execution_count": 35,
     "metadata": {},
     "output_type": "execute_result"
    }
   ],
   "source": [
    "lr.coef_"
   ]
  },
  {
   "cell_type": "markdown",
   "metadata": {},
   "source": [
    "Prikazimo graficki znacajnost svakog atributa:"
   ]
  },
  {
   "cell_type": "code",
   "execution_count": 36,
   "metadata": {},
   "outputs": [
    {
     "data": {
      "text/plain": [
       "<AxesSubplot:ylabel='att'>"
      ]
     },
     "execution_count": 36,
     "metadata": {},
     "output_type": "execute_result"
    },
    {
     "data": {
      "image/png": "[encoded data removed]",
      "text/plain": [
       "<Figure size 1440x1440 with 1 Axes>"
      ]
     },
     "metadata": {
      "needs_background": "light"
     },
     "output_type": "display_data"
    }
   ],
   "source": [
    "coef = pd.DataFrame({'att': X.columns, 'coef': lr.coef_[0]}).sort_values(by='coef', ascending=True)\n",
    "coef = coef.loc[coef['coef'] != 0, :]\n",
    "coef.plot.barh(x='att', y='coef', figsize=(20, 20))"
   ]
  },
  {
   "cell_type": "markdown",
   "metadata": {},
   "source": [
    "#### KNN"
   ]
  },
  {
   "cell_type": "markdown",
   "metadata": {},
   "source": [
    "Ispitajmo koje su to optimalne vrednosti hiperparametrima kod knn algoritma n_neighbors, weights i metric u odnosu na evaluacionu metriku auc u ovom slucaju:"
   ]
  },
  {
   "cell_type": "code",
   "execution_count": 37,
   "metadata": {},
   "outputs": [
    {
     "data": {
      "text/plain": [
       "GridSearchCV(cv=5, estimator=KNeighborsClassifier(),\n",
       "             param_grid={'metric': ['euclidean', 'manhattan'],\n",
       "                         'n_neighbors': [3, 5, 7, 9, 11, 13, 15],\n",
       "                         'weights': ['uniform', 'distance']},\n",
       "             scoring='roc_auc')"
      ]
     },
     "execution_count": 37,
     "metadata": {},
     "output_type": "execute_result"
    }
   ],
   "source": [
    "from sklearn.neighbors import KNeighborsClassifier\n",
    "from sklearn.model_selection import GridSearchCV\n",
    "\n",
    "knn_params = {'n_neighbors' : [3,5,7,9,11,13,15], 'weights' : ['uniform', 'distance'],  'metric' : ['euclidean', 'manhattan']}\n",
    "grid_knn = GridSearchCV(KNeighborsClassifier(), knn_params, cv = 5, scoring=\"roc_auc\")\n",
    "grid_knn.fit(X_train, y_train)"
   ]
  },
  {
   "cell_type": "markdown",
   "metadata": {},
   "source": [
    "Pogledajmo koje su to optimalne vrednosti hiperparametara:"
   ]
  },
  {
   "cell_type": "code",
   "execution_count": 38,
   "metadata": {},
   "outputs": [
    {
     "data": {
      "text/plain": [
       "{'metric': 'euclidean', 'n_neighbors': 15, 'weights': 'distance'}"
      ]
     },
     "execution_count": 38,
     "metadata": {},
     "output_type": "execute_result"
    }
   ],
   "source": [
    "grid_knn.best_params_"
   ]
  },
  {
   "cell_type": "markdown",
   "metadata": {},
   "source": [
    "Kreirajmo knn model sa optimalno podesenim vrednostima hiperparametara:"
   ]
  },
  {
   "cell_type": "code",
   "execution_count": 39,
   "metadata": {},
   "outputs": [
    {
     "data": {
      "text/plain": [
       "KNeighborsClassifier(metric='euclidean', n_neighbors=15, weights='distance')"
      ]
     },
     "execution_count": 39,
     "metadata": {},
     "output_type": "execute_result"
    }
   ],
   "source": [
    "knn_model = grid_knn.best_estimator_\n",
    "knn_model.fit(X_train, y_train)"
   ]
  },
  {
   "cell_type": "code",
   "execution_count": 40,
   "metadata": {},
   "outputs": [
    {
     "data": {
      "text/plain": [
       "0.6299510017149254"
      ]
     },
     "execution_count": 40,
     "metadata": {},
     "output_type": "execute_result"
    }
   ],
   "source": [
    "cross_val_score(knn_model, X_train, y_train, cv = 10, scoring = 'roc_auc').mean()"
   ]
  },
  {
   "cell_type": "markdown",
   "metadata": {},
   "source": [
    "Kreirajmo predikcije i matricu konfuzije na test setu:"
   ]
  },
  {
   "cell_type": "code",
   "execution_count": 41,
   "metadata": {},
   "outputs": [
    {
     "data": {
      "text/plain": [
       "array([[922, 843],\n",
       "       [106, 169]], dtype=int64)"
      ]
     },
     "execution_count": 41,
     "metadata": {},
     "output_type": "execute_result"
    }
   ],
   "source": [
    "y_pred_knn = knn_model.predict_proba(X_test)[:, 1] >= 0.1\n",
    "confusion_matrix(y_test, y_pred_knn)"
   ]
  },
  {
   "cell_type": "markdown",
   "metadata": {},
   "source": [
    "Sracunajmo i odstampajmo standardne evaluacione metrike:"
   ]
  },
  {
   "cell_type": "code",
   "execution_count": 42,
   "metadata": {},
   "outputs": [
    {
     "name": "stdout",
     "output_type": "stream",
     "text": [
      "Accuracy : 0.5348039215686274\n",
      "Precision : 0.16699604743083005\n",
      "Recall : 0.6145454545454545\n",
      "F1 : 0.26262626262626265\n"
     ]
    }
   ],
   "source": [
    "print_performance(y_test, y_pred_knn)"
   ]
  },
  {
   "cell_type": "markdown",
   "metadata": {},
   "source": [
    "Auc na test delu:"
   ]
  },
  {
   "cell_type": "code",
   "execution_count": 43,
   "metadata": {},
   "outputs": [
    {
     "data": {
      "text/plain": [
       "0.568462528972444"
      ]
     },
     "execution_count": 43,
     "metadata": {},
     "output_type": "execute_result"
    }
   ],
   "source": [
    "roc_auc_score(y_test, y_pred_knn)"
   ]
  },
  {
   "cell_type": "markdown",
   "metadata": {},
   "source": [
    "#### VOTING"
   ]
  },
  {
   "cell_type": "markdown",
   "metadata": {},
   "source": [
    "Kreirajmo Votingclassifier() i ubacimo otpimalno podesenu logisticku regresiju i stablo odlucivanja kao algoritme koji glasaju. Stavicemo da je nacin glasanja \"soft\", odnosno da ce se porediti verovatnoce za svaku opservaciju:"
   ]
  },
  {
   "cell_type": "code",
   "execution_count": 44,
   "metadata": {},
   "outputs": [
    {
     "data": {
      "text/plain": [
       "VotingClassifier(estimators=[('lr',\n",
       "                              LogisticRegression(C=0.5176837053578198,\n",
       "                                                 penalty='l1',\n",
       "                                                 solver='liblinear')),\n",
       "                             ('tree',\n",
       "                              DecisionTreeClassifier(max_depth=15,\n",
       "                                                     max_features=5,\n",
       "                                                     min_samples_leaf=21)),\n",
       "                             ('knn',\n",
       "                              KNeighborsClassifier(metric='euclidean',\n",
       "                                                   n_neighbors=15,\n",
       "                                                   weights='distance'))],\n",
       "                 voting='soft')"
      ]
     },
     "execution_count": 44,
     "metadata": {},
     "output_type": "execute_result"
    }
   ],
   "source": [
    "from sklearn.ensemble import VotingClassifier\n",
    "\n",
    "model_voting = VotingClassifier(voting = \"soft\", estimators=[('lr', lr), ('tree', model_tree), ('knn', knn_model)])\n",
    "\n",
    "model_voting.fit(X_train, y_train)"
   ]
  },
  {
   "cell_type": "markdown",
   "metadata": {},
   "source": [
    "Sracunajmo vrednost za auc na train delu (pomocu kros-validacije):"
   ]
  },
  {
   "cell_type": "code",
   "execution_count": 45,
   "metadata": {},
   "outputs": [
    {
     "data": {
      "text/plain": [
       "0.6687270724489508"
      ]
     },
     "execution_count": 45,
     "metadata": {},
     "output_type": "execute_result"
    }
   ],
   "source": [
    "cross_val_score(model_voting, X_train, y_train, cv=10, scoring='roc_auc').mean()"
   ]
  },
  {
   "cell_type": "markdown",
   "metadata": {},
   "source": [
    "Kreirajmo predikcije i matricu konfuzije na test delu:"
   ]
  },
  {
   "cell_type": "code",
   "execution_count": 46,
   "metadata": {},
   "outputs": [
    {
     "data": {
      "text/plain": [
       "array([[818, 947],\n",
       "       [ 67, 208]], dtype=int64)"
      ]
     },
     "execution_count": 46,
     "metadata": {},
     "output_type": "execute_result"
    }
   ],
   "source": [
    "y_pred_voting = model_voting.predict_proba(X_test)[:,1] > 0.1\n",
    "confusion_matrix(y_test, y_pred_voting)"
   ]
  },
  {
   "cell_type": "markdown",
   "metadata": {},
   "source": [
    "Prikazimo standardne evaluacione metrike sracunate iz matrice konfuzije:"
   ]
  },
  {
   "cell_type": "code",
   "execution_count": 47,
   "metadata": {},
   "outputs": [
    {
     "name": "stdout",
     "output_type": "stream",
     "text": [
      "Accuracy : 0.5029411764705882\n",
      "Precision : 0.1800865800865801\n",
      "Recall : 0.7563636363636363\n",
      "F1 : 0.29090909090909095\n"
     ]
    }
   ],
   "source": [
    "print_performance(y_test, y_pred_voting)"
   ]
  },
  {
   "cell_type": "markdown",
   "metadata": {},
   "source": [
    "Sracunajmo auc na test delu:"
   ]
  },
  {
   "cell_type": "code",
   "execution_count": 48,
   "metadata": {},
   "outputs": [
    {
     "data": {
      "text/plain": [
       "0.6099098635075972"
      ]
     },
     "execution_count": 48,
     "metadata": {},
     "output_type": "execute_result"
    }
   ],
   "source": [
    "roc_auc_score(y_test, y_pred_voting)"
   ]
  },
  {
   "cell_type": "markdown",
   "metadata": {},
   "source": [
    "#### STACKING"
   ]
  },
  {
   "cell_type": "markdown",
   "metadata": {},
   "source": [
    "Kreirajmo StackingClassifier() sa optimalno podesenim algoritimima logisticke regresije i stabla odlucivanja:"
   ]
  },
  {
   "cell_type": "code",
   "execution_count": 49,
   "metadata": {},
   "outputs": [
    {
     "data": {
      "text/plain": [
       "StackingClassifier(classifiers=[LogisticRegression(C=0.5176837053578198,\n",
       "                                                   penalty='l1',\n",
       "                                                   solver='liblinear'),\n",
       "                                DecisionTreeClassifier(max_depth=15,\n",
       "                                                       max_features=5,\n",
       "                                                       min_samples_leaf=21)],\n",
       "                   meta_classifier=LogisticRegression(C=0.5176837053578198,\n",
       "                                                      penalty='l1',\n",
       "                                                      solver='liblinear'),\n",
       "                   use_features_in_secondary=True)"
      ]
     },
     "execution_count": 49,
     "metadata": {},
     "output_type": "execute_result"
    }
   ],
   "source": [
    "from mlxtend.classifier import StackingClassifier\n",
    "model_stacking = StackingClassifier(classifiers = [lr, model_tree],\n",
    "                                   meta_classifier = lr,\n",
    "                                   use_features_in_secondary=True)\n",
    "model_stacking.fit(X_train, y_train)\n"
   ]
  },
  {
   "cell_type": "markdown",
   "metadata": {},
   "source": [
    "Sracunajmo auc na train delu (kroz kros validaciju):"
   ]
  },
  {
   "cell_type": "code",
   "execution_count": 50,
   "metadata": {},
   "outputs": [
    {
     "data": {
      "text/plain": [
       "0.6781865993515488"
      ]
     },
     "execution_count": 50,
     "metadata": {},
     "output_type": "execute_result"
    }
   ],
   "source": [
    "cross_val_score(model_stacking, X_train, y_train, cv=10, scoring='roc_auc').mean()"
   ]
  },
  {
   "cell_type": "markdown",
   "metadata": {},
   "source": [
    "Kreraijmo predikcije i matricu konfuzije na test delu:"
   ]
  },
  {
   "cell_type": "code",
   "execution_count": 51,
   "metadata": {},
   "outputs": [
    {
     "data": {
      "text/plain": [
       "array([[904, 861],\n",
       "       [ 74, 201]], dtype=int64)"
      ]
     },
     "execution_count": 51,
     "metadata": {},
     "output_type": "execute_result"
    }
   ],
   "source": [
    "y_pred_stacking = model_stacking.predict_proba(X_test)[:,1] > 0.1\n",
    "confusion_matrix(y_test, y_pred_stacking)"
   ]
  },
  {
   "cell_type": "markdown",
   "metadata": {},
   "source": [
    "Sracunajmo osnovne evaluacione metrike iz matrice konfuzije:"
   ]
  },
  {
   "cell_type": "code",
   "execution_count": 52,
   "metadata": {},
   "outputs": [
    {
     "name": "stdout",
     "output_type": "stream",
     "text": [
      "Accuracy : 0.5416666666666666\n",
      "Precision : 0.18926553672316385\n",
      "Recall : 0.730909090909091\n",
      "F1 : 0.30067314884068813\n"
     ]
    }
   ],
   "source": [
    "print_performance(y_test, y_pred_stacking)"
   ]
  },
  {
   "cell_type": "markdown",
   "metadata": {},
   "source": [
    "Sracunajmo auc na test delu:"
   ]
  },
  {
   "cell_type": "code",
   "execution_count": 53,
   "metadata": {},
   "outputs": [
    {
     "data": {
      "text/plain": [
       "0.6215451970126191"
      ]
     },
     "execution_count": 53,
     "metadata": {},
     "output_type": "execute_result"
    }
   ],
   "source": [
    "roc_auc_score(y_test, y_pred_stacking)"
   ]
  },
  {
   "cell_type": "markdown",
   "metadata": {},
   "source": [
    "#### BAGGING"
   ]
  },
  {
   "cell_type": "markdown",
   "metadata": {},
   "source": [
    "Kreirajmo BaggingClassifier(), gde cemo kao base_estimator staviti optimalno podeseni model logisticke regresije:"
   ]
  },
  {
   "cell_type": "code",
   "execution_count": 54,
   "metadata": {},
   "outputs": [
    {
     "data": {
      "text/plain": [
       "BaggingClassifier(base_estimator=LogisticRegression(C=0.5176837053578198,\n",
       "                                                    penalty='l1',\n",
       "                                                    solver='liblinear'),\n",
       "                  bootstrap=100)"
      ]
     },
     "execution_count": 54,
     "metadata": {},
     "output_type": "execute_result"
    }
   ],
   "source": [
    "from sklearn.ensemble import BaggingClassifier\n",
    "model_bagging = BaggingClassifier(base_estimator = lr, bootstrap=100)\n",
    "model_bagging.fit(X_train, y_train)"
   ]
  },
  {
   "cell_type": "markdown",
   "metadata": {},
   "source": [
    "Auc na train delu:"
   ]
  },
  {
   "cell_type": "code",
   "execution_count": 55,
   "metadata": {},
   "outputs": [
    {
     "data": {
      "text/plain": [
       "0.6800369912674815"
      ]
     },
     "execution_count": 55,
     "metadata": {},
     "output_type": "execute_result"
    }
   ],
   "source": [
    "cross_val_score(model_bagging, X_train, y_train, cv=10, scoring='roc_auc').mean()"
   ]
  },
  {
   "cell_type": "markdown",
   "metadata": {},
   "source": [
    "Kreirajmo predikcije i matricu konfuzije na test delu:"
   ]
  },
  {
   "cell_type": "code",
   "execution_count": 56,
   "metadata": {},
   "outputs": [
    {
     "data": {
      "text/plain": [
       "array([[924, 841],\n",
       "       [ 82, 193]], dtype=int64)"
      ]
     },
     "execution_count": 56,
     "metadata": {},
     "output_type": "execute_result"
    }
   ],
   "source": [
    "y_pred_bagging = model_bagging.predict_proba(X_test)[:, 1] > 0.1\n",
    "confusion_matrix(y_test, y_pred_bagging)"
   ]
  },
  {
   "cell_type": "markdown",
   "metadata": {},
   "source": [
    "Sracunajmo i odstampajmo standardne evaluacione metrike:"
   ]
  },
  {
   "cell_type": "code",
   "execution_count": 57,
   "metadata": {},
   "outputs": [
    {
     "name": "stdout",
     "output_type": "stream",
     "text": [
      "Accuracy : 0.5475490196078432\n",
      "Precision : 0.18665377176015474\n",
      "Recall : 0.7018181818181818\n",
      "F1 : 0.29488158899923606\n"
     ]
    }
   ],
   "source": [
    "print_performance(y_test, y_pred_bagging)"
   ]
  },
  {
   "cell_type": "markdown",
   "metadata": {},
   "source": [
    "Auc na test delu:"
   ]
  },
  {
   "cell_type": "code",
   "execution_count": 58,
   "metadata": {},
   "outputs": [
    {
     "data": {
      "text/plain": [
       "0.6126654648467679"
      ]
     },
     "execution_count": 58,
     "metadata": {},
     "output_type": "execute_result"
    }
   ],
   "source": [
    "roc_auc_score(y_test, y_pred_bagging)"
   ]
  },
  {
   "cell_type": "markdown",
   "metadata": {},
   "source": [
    "#### RANDOM FOREST"
   ]
  },
  {
   "cell_type": "markdown",
   "metadata": {},
   "source": [
    "Kreirajmo RandomForestClassifier sa 200 stabala:"
   ]
  },
  {
   "cell_type": "code",
   "execution_count": 59,
   "metadata": {},
   "outputs": [
    {
     "data": {
      "text/plain": [
       "RandomForestClassifier(n_estimators=200, oob_score=True)"
      ]
     },
     "execution_count": 59,
     "metadata": {},
     "output_type": "execute_result"
    }
   ],
   "source": [
    "from sklearn.ensemble import RandomForestClassifier\n",
    "\n",
    "forest = RandomForestClassifier(n_estimators = 200, oob_score = True)\n",
    "forest.fit(X_train, y_train)"
   ]
  },
  {
   "cell_type": "markdown",
   "metadata": {},
   "source": [
    "Sracunajmo auc na train delu (kroz kros-validaciju):"
   ]
  },
  {
   "cell_type": "code",
   "execution_count": 60,
   "metadata": {},
   "outputs": [
    {
     "data": {
      "text/plain": [
       "0.6591997792737129"
      ]
     },
     "execution_count": 60,
     "metadata": {},
     "output_type": "execute_result"
    }
   ],
   "source": [
    "cross_val_score(forest, X_train, y_train, cv=10, scoring='roc_auc').mean()"
   ]
  },
  {
   "cell_type": "markdown",
   "metadata": {},
   "source": [
    "Pogledajmo koliko forest(suma) svaki od atributa smatra znacajnim:"
   ]
  },
  {
   "cell_type": "code",
   "execution_count": 61,
   "metadata": {},
   "outputs": [
    {
     "data": {
      "text/plain": [
       "array([3.31779771e-02, 3.46015098e-02, 8.25925465e-02, 7.39042754e-02,\n",
       "       8.93565742e-02, 4.57591898e-03, 6.49868405e-02, 1.30476664e-02,\n",
       "       7.94899750e-02, 8.15023993e-02, 8.39591377e-02, 8.12326600e-02,\n",
       "       4.19240850e-04, 1.92591109e-03, 0.00000000e+00, 7.34131994e-03,\n",
       "       7.68597317e-03, 7.85318154e-03, 7.08059678e-03, 9.13236378e-04,\n",
       "       6.92313638e-04, 8.50452766e-07, 1.87375193e-03, 2.47261608e-03,\n",
       "       3.84008189e-05, 2.30679780e-03, 3.32839791e-03, 6.53981525e-04,\n",
       "       7.19918970e-05, 1.79240503e-03, 1.99418209e-03, 6.40505927e-04,\n",
       "       9.93026995e-04, 2.43532187e-03, 5.06818656e-04, 0.00000000e+00,\n",
       "       3.89380409e-03, 5.38528554e-03, 3.15487639e-05, 0.00000000e+00,\n",
       "       3.14306175e-03, 1.36648995e-03, 4.06440632e-04, 6.69802221e-06,\n",
       "       4.33147405e-03, 8.22973107e-03, 1.01171448e-02, 2.63368679e-03,\n",
       "       9.25851578e-03, 5.27335057e-03, 1.02818102e-02, 4.29655888e-03,\n",
       "       3.56047480e-04, 2.92445228e-04, 1.09881009e-03, 2.31351541e-03,\n",
       "       7.89208002e-03, 1.10310661e-02, 1.06824279e-02, 6.14456528e-04,\n",
       "       2.93464157e-03, 3.12305400e-03, 1.02158082e-02, 9.75039275e-03,\n",
       "       4.09379263e-03, 6.07710407e-04, 4.10483853e-03, 2.50684935e-03,\n",
       "       6.62533238e-03, 2.54404931e-03, 5.75878096e-03, 2.17198268e-03,\n",
       "       3.54380586e-03, 1.01327073e-02, 7.69502064e-03, 5.28895462e-03,\n",
       "       2.98092143e-03, 2.09600105e-03, 1.31028779e-03, 6.98942764e-03,\n",
       "       8.06915937e-03, 6.72830622e-03, 7.65616823e-03, 4.68725417e-03])"
      ]
     },
     "execution_count": 61,
     "metadata": {},
     "output_type": "execute_result"
    }
   ],
   "source": [
    "forest.feature_importances_"
   ]
  },
  {
   "cell_type": "markdown",
   "metadata": {},
   "source": [
    "Kreirajmo predikcije i matricu konfuzije na test delu:"
   ]
  },
  {
   "cell_type": "code",
   "execution_count": 62,
   "metadata": {},
   "outputs": [
    {
     "data": {
      "text/plain": [
       "array([[865, 900],\n",
       "       [ 68, 207]], dtype=int64)"
      ]
     },
     "execution_count": 62,
     "metadata": {},
     "output_type": "execute_result"
    }
   ],
   "source": [
    "y_pred_forest = forest.predict_proba(X_test)[:, 1] > 0.1\n",
    "confusion_matrix(y_test, y_pred_forest)"
   ]
  },
  {
   "cell_type": "markdown",
   "metadata": {},
   "source": [
    "Sracunajmo i odstampajmo standardne evaluacione metrike:"
   ]
  },
  {
   "cell_type": "code",
   "execution_count": 63,
   "metadata": {},
   "outputs": [
    {
     "name": "stdout",
     "output_type": "stream",
     "text": [
      "Accuracy : 0.5254901960784314\n",
      "Precision : 0.18699186991869918\n",
      "Recall : 0.7527272727272727\n",
      "F1 : 0.2995658465991317\n"
     ]
    }
   ],
   "source": [
    "print_performance(y_test, y_pred_forest)"
   ]
  },
  {
   "cell_type": "markdown",
   "metadata": {},
   "source": [
    "Auc na test delu:"
   ]
  },
  {
   "cell_type": "code",
   "execution_count": 64,
   "metadata": {},
   "outputs": [
    {
     "data": {
      "text/plain": [
       "0.6126654648467679"
      ]
     },
     "execution_count": 64,
     "metadata": {},
     "output_type": "execute_result"
    }
   ],
   "source": [
    "roc_auc_score(y_test, y_pred_bagging)"
   ]
  },
  {
   "cell_type": "markdown",
   "metadata": {},
   "source": [
    "Da nam je zeljena metrika accuracy, mogli bi direktno iz objekta forest da izvucemo koliko iznosi vrednost metrike na \"test delu\", odnosno na onom delu dataseta koji nije uzet prilikom kreiranja algoritma:"
   ]
  },
  {
   "cell_type": "code",
   "execution_count": 65,
   "metadata": {},
   "outputs": [
    {
     "data": {
      "text/plain": [
       "0.8734762505254309"
      ]
     },
     "execution_count": 65,
     "metadata": {},
     "output_type": "execute_result"
    }
   ],
   "source": [
    "forest.oob_score_"
   ]
  },
  {
   "cell_type": "markdown",
   "metadata": {},
   "source": [
    "# SELEKCIJA ATRIBUTA"
   ]
  },
  {
   "cell_type": "code",
   "execution_count": 66,
   "metadata": {},
   "outputs": [],
   "source": [
    "from sklearn.feature_selection import chi2\n",
    "from sklearn.feature_selection import mutual_info_classif\n",
    "from sklearn.feature_selection import f_classif\n",
    "from sklearn.feature_selection import SelectKBest"
   ]
  },
  {
   "cell_type": "markdown",
   "metadata": {},
   "source": [
    "Pokusacemo da na osnovu zavisnosti varijable sa izlaznom utvrdimo kojih 50 varijabli su najbolje za kreiranje modela:"
   ]
  },
  {
   "cell_type": "code",
   "execution_count": 67,
   "metadata": {},
   "outputs": [
    {
     "data": {
      "text/plain": [
       "array([ True,  True,  True, False,  True, False,  True, False,  True,\n",
       "        True,  True,  True, False, False, False,  True, False, False,\n",
       "        True, False, False, False, False,  True, False, False, False,\n",
       "       False, False, False, False,  True, False, False, False, False,\n",
       "       False, False, False, False, False, False, False, False, False,\n",
       "       False, False, False, False, False, False, False, False, False,\n",
       "       False, False, False, False, False, False, False, False,  True,\n",
       "        True, False, False, False, False,  True, False,  True, False,\n",
       "       False, False,  True, False, False, False, False, False, False,\n",
       "        True,  True, False])"
      ]
     },
     "execution_count": 67,
     "metadata": {},
     "output_type": "execute_result"
    }
   ],
   "source": [
    "# K BEST\n",
    "selection = SelectKBest(k=20, score_func = f_classif)\n",
    "selection.fit(X, y)\n",
    "selection.get_support()"
   ]
  },
  {
   "cell_type": "markdown",
   "metadata": {},
   "source": [
    "Uzmimo podset samo 50 najboljih varijabli kao ulaz u algoritam:"
   ]
  },
  {
   "cell_type": "code",
   "execution_count": 68,
   "metadata": {},
   "outputs": [],
   "source": [
    "X_reduced_kbest = X.loc[:, selection.get_support()]"
   ]
  },
  {
   "cell_type": "markdown",
   "metadata": {},
   "source": [
    " Deljenje u train i test novih podataka:"
   ]
  },
  {
   "cell_type": "code",
   "execution_count": 69,
   "metadata": {},
   "outputs": [],
   "source": [
    "X_reduced_kbest_train, X_reduced_kbest_test, y_train, y_test = train_test_split(X_reduced_kbest, y, test_size=0.3, random_state=2019)"
   ]
  },
  {
   "cell_type": "markdown",
   "metadata": {},
   "source": [
    "### Pravljenje otpimalnih algoritama sa best_k"
   ]
  },
  {
   "cell_type": "markdown",
   "metadata": {},
   "source": [
    "#### STABLO ODLUCIVANJA"
   ]
  },
  {
   "cell_type": "markdown",
   "metadata": {},
   "source": [
    "Kreirajmo model stabla odlucivanja sa optimalnom podesenim hiperparametrima, ali cemo na ulazu koristiti samo 50 najboljih atributa:"
   ]
  },
  {
   "cell_type": "code",
   "execution_count": 70,
   "metadata": {},
   "outputs": [
    {
     "data": {
      "text/plain": [
       "GridSearchCV(cv=5, estimator=DecisionTreeClassifier(),\n",
       "             param_grid={'max_depth': [5, 7, 8, 9, 10, 15, 20],\n",
       "                         'max_features': [3, 4, 5, 6, 7, 8, 9, 10],\n",
       "                         'min_samples_leaf': [10, 15, 20, 25, 30]},\n",
       "             scoring='roc_auc')"
      ]
     },
     "execution_count": 70,
     "metadata": {},
     "output_type": "execute_result"
    }
   ],
   "source": [
    "from sklearn.tree import DecisionTreeClassifier\n",
    "from sklearn.model_selection import GridSearchCV\n",
    "\n",
    "parameters = {'max_features': [3,4,5,6,7,8,9,10], 'min_samples_leaf': [10,15,20,25,30], 'max_depth': [5,7,8,9,10,15,20]}\n",
    "grid = GridSearchCV(DecisionTreeClassifier(), parameters, cv = 5, scoring='roc_auc')\n",
    "grid.fit(X_reduced_kbest_train, y_train)\n"
   ]
  },
  {
   "cell_type": "markdown",
   "metadata": {},
   "source": [
    "Pogledajmo koje su to optimalne vrednosti hiperparametara:"
   ]
  },
  {
   "cell_type": "code",
   "execution_count": 71,
   "metadata": {},
   "outputs": [
    {
     "data": {
      "text/plain": [
       "{'max_depth': 5, 'max_features': 5, 'min_samples_leaf': 25}"
      ]
     },
     "execution_count": 71,
     "metadata": {},
     "output_type": "execute_result"
    }
   ],
   "source": [
    "grid.best_params_"
   ]
  },
  {
   "cell_type": "markdown",
   "metadata": {},
   "source": [
    "Pogledajmo kako izgleda model stabla sa optimalno podesenim hiperparametrima:"
   ]
  },
  {
   "cell_type": "code",
   "execution_count": 72,
   "metadata": {},
   "outputs": [
    {
     "data": {
      "text/plain": [
       "DecisionTreeClassifier(max_depth=5, max_features=5, min_samples_leaf=25)"
      ]
     },
     "execution_count": 72,
     "metadata": {},
     "output_type": "execute_result"
    }
   ],
   "source": [
    "grid.best_estimator_"
   ]
  },
  {
   "cell_type": "markdown",
   "metadata": {},
   "source": [
    "Kreirajmo optimalno stablo:"
   ]
  },
  {
   "cell_type": "code",
   "execution_count": 73,
   "metadata": {},
   "outputs": [
    {
     "data": {
      "text/plain": [
       "DecisionTreeClassifier(max_depth=5, max_features=5, min_samples_leaf=25)"
      ]
     },
     "execution_count": 73,
     "metadata": {},
     "output_type": "execute_result"
    }
   ],
   "source": [
    "model_tree_bestk = grid.best_estimator_\n",
    "model_tree_bestk.fit(X_reduced_kbest_train, y_train)"
   ]
  },
  {
   "cell_type": "markdown",
   "metadata": {},
   "source": [
    "Ispitajmo vrednosti auc na train delu:"
   ]
  },
  {
   "cell_type": "code",
   "execution_count": 74,
   "metadata": {},
   "outputs": [
    {
     "data": {
      "text/plain": [
       "0.6132673411466394"
      ]
     },
     "execution_count": 74,
     "metadata": {},
     "output_type": "execute_result"
    }
   ],
   "source": [
    "cross_val_score(model_tree_bestk, X_reduced_kbest_train, y_train, cv = 10, scoring = 'roc_auc').mean()"
   ]
  },
  {
   "cell_type": "markdown",
   "metadata": {},
   "source": [
    "Kreirajmo predikcije i matricu konfuzije na test delu:"
   ]
  },
  {
   "cell_type": "code",
   "execution_count": 75,
   "metadata": {},
   "outputs": [
    {
     "data": {
      "text/plain": [
       "array([[1453,  312],\n",
       "       [ 189,   86]], dtype=int64)"
      ]
     },
     "execution_count": 75,
     "metadata": {},
     "output_type": "execute_result"
    }
   ],
   "source": [
    "y_pred_tree_bestk = model_tree_bestk.predict_proba(X_reduced_kbest_test)[:, 1] >= 0.2\n",
    "confusion_matrix(y_test, y_pred_tree_bestk)"
   ]
  },
  {
   "cell_type": "markdown",
   "metadata": {},
   "source": [
    "Sracunajmo i odstampajmo standardne evaluacione metrike:"
   ]
  },
  {
   "cell_type": "code",
   "execution_count": 76,
   "metadata": {},
   "outputs": [
    {
     "name": "stdout",
     "output_type": "stream",
     "text": [
      "Accuracy : 0.7544117647058823\n",
      "Precision : 0.21608040201005024\n",
      "Recall : 0.31272727272727274\n",
      "F1 : 0.2555720653789005\n"
     ]
    }
   ],
   "source": [
    "print_performance(y_test, y_pred_tree_bestk)"
   ]
  },
  {
   "cell_type": "markdown",
   "metadata": {},
   "source": [
    "Ispitajmo vrednosti za auc na test delu:"
   ]
  },
  {
   "cell_type": "code",
   "execution_count": 77,
   "metadata": {},
   "outputs": [
    {
     "data": {
      "text/plain": [
       "0.5679783672418233"
      ]
     },
     "execution_count": 77,
     "metadata": {},
     "output_type": "execute_result"
    }
   ],
   "source": [
    "roc_auc_score(y_test, y_pred_tree_bestk)"
   ]
  },
  {
   "cell_type": "markdown",
   "metadata": {},
   "source": [
    "#### LOGISTICKA REGRESIJA"
   ]
  },
  {
   "cell_type": "markdown",
   "metadata": {},
   "source": [
    "Kreirajmo model logisticke regresije sa optimalnom podesenim hiperparametrima, ali cemo na ulazu koristiti samo 50 najboljih atributa. Kako znamo da je optimalno C u vise navrata iznosilo 0.5, nema potrebe za gridom i prolaskom kroz vise redova velicina, vec je sasvim u redu da se ogranicimo na interval od (0.3, 1):"
   ]
  },
  {
   "cell_type": "code",
   "execution_count": 78,
   "metadata": {},
   "outputs": [
    {
     "data": {
      "text/plain": [
       "RandomizedSearchCV(cv=10, estimator=LogisticRegression(solver='liblinear'),\n",
       "                   n_iter=100,\n",
       "                   param_distributions={'C': <scipy.stats._distn_infrastructure.rv_frozen object at 0x00000268E99B1EE0>,\n",
       "                                        'penalty': ['l1', 'l2']},\n",
       "                   scoring='roc_auc')"
      ]
     },
     "execution_count": 78,
     "metadata": {},
     "output_type": "execute_result"
    }
   ],
   "source": [
    "logistic_params = {'C' : scipy.stats.uniform(0.3, 1),\n",
    "                  'penalty' : ['l1', 'l2']}\n",
    "\n",
    "number_iterations = 100\n",
    "\n",
    "random_s = RandomizedSearchCV(LogisticRegression(solver=\"liblinear\"), param_distributions = logistic_params, \n",
    "                              n_iter = number_iterations, cv = 10, scoring = \"roc_auc\")\n",
    "\n",
    "random_s.fit(X_train, y_train)"
   ]
  },
  {
   "cell_type": "markdown",
   "metadata": {},
   "source": [
    "Izgradimo optimalan model:"
   ]
  },
  {
   "cell_type": "code",
   "execution_count": 79,
   "metadata": {},
   "outputs": [
    {
     "data": {
      "text/plain": [
       "LogisticRegression(C=0.5132666251005873, penalty='l1', solver='liblinear')"
      ]
     },
     "execution_count": 79,
     "metadata": {},
     "output_type": "execute_result"
    }
   ],
   "source": [
    "lr_bestk = random_s.best_estimator_\n",
    "lr_bestk.fit(X_reduced_kbest_train, y_train)"
   ]
  },
  {
   "cell_type": "markdown",
   "metadata": {},
   "source": [
    "Rezultati auc na train delu:"
   ]
  },
  {
   "cell_type": "code",
   "execution_count": 80,
   "metadata": {},
   "outputs": [
    {
     "data": {
      "text/plain": [
       "0.6762259400432719"
      ]
     },
     "execution_count": 80,
     "metadata": {},
     "output_type": "execute_result"
    }
   ],
   "source": [
    "cross_val_score(lr_bestk, X_reduced_kbest_train, y_train, cv = 10, scoring = 'roc_auc').mean()"
   ]
  },
  {
   "cell_type": "markdown",
   "metadata": {},
   "source": [
    "Kreirajmo predikcije i matricu konfuzije:"
   ]
  },
  {
   "cell_type": "code",
   "execution_count": 81,
   "metadata": {},
   "outputs": [
    {
     "data": {
      "text/plain": [
       "array([[879, 886],\n",
       "       [ 69, 206]], dtype=int64)"
      ]
     },
     "execution_count": 81,
     "metadata": {},
     "output_type": "execute_result"
    }
   ],
   "source": [
    "y_pred_lr_bestk = lr_bestk.predict_proba(X_reduced_kbest_test)[:, 1] >= 0.1\n",
    "confusion_matrix(y_test, y_pred_lr_bestk)"
   ]
  },
  {
   "cell_type": "markdown",
   "metadata": {},
   "source": [
    "Sracunajmo i odstampajmo standardne evaluacione metrike:"
   ]
  },
  {
   "cell_type": "code",
   "execution_count": 82,
   "metadata": {},
   "outputs": [
    {
     "name": "stdout",
     "output_type": "stream",
     "text": [
      "Accuracy : 0.5318627450980392\n",
      "Precision : 0.18864468864468864\n",
      "Recall : 0.7490909090909091\n",
      "F1 : 0.30138990490124357\n"
     ]
    }
   ],
   "source": [
    "print_performance(y_test, y_pred_lr_bestk)"
   ]
  },
  {
   "cell_type": "markdown",
   "metadata": {},
   "source": [
    "Rezultati auc na test delu:"
   ]
  },
  {
   "cell_type": "code",
   "execution_count": 83,
   "metadata": {},
   "outputs": [
    {
     "data": {
      "text/plain": [
       "0.623553953129024"
      ]
     },
     "execution_count": 83,
     "metadata": {},
     "output_type": "execute_result"
    }
   ],
   "source": [
    "roc_auc_score(y_test, y_pred_lr_bestk)"
   ]
  },
  {
   "cell_type": "markdown",
   "metadata": {},
   "source": [
    "Kreiranje grafikona najbitnijih atributa:"
   ]
  },
  {
   "cell_type": "code",
   "execution_count": 114,
   "metadata": {},
   "outputs": [
    {
     "data": {
      "text/plain": [
       "<AxesSubplot:ylabel='att'>"
      ]
     },
     "execution_count": 114,
     "metadata": {},
     "output_type": "execute_result"
    },
    {
     "data": {
      "image/png": "[encoded data removed]",
      "text/plain": [
       "<Figure size 1440x1440 with 1 Axes>"
      ]
     },
     "metadata": {
      "needs_background": "light"
     },
     "output_type": "display_data"
    }
   ],
   "source": [
    "coef = pd.DataFrame({'att': X_reduced_kbest_train.columns, 'coef': lr_bestk.coef_[0]}).sort_values(by='coef', ascending=True)\n",
    "coef = coef.loc[coef['coef'] != 0, :]\n",
    "coef.plot.barh(x='att', y='coef', figsize=(20, 20))"
   ]
  },
  {
   "cell_type": "markdown",
   "metadata": {},
   "source": [
    "#### KNN"
   ]
  },
  {
   "cell_type": "markdown",
   "metadata": {},
   "source": [
    "Ispitajmo koje su to vrednosti za hiperparametre na podskupu bitnih ulaznih atributa za maksimizaciju auc-a:"
   ]
  },
  {
   "cell_type": "code",
   "execution_count": 84,
   "metadata": {},
   "outputs": [
    {
     "data": {
      "text/plain": [
       "GridSearchCV(cv=5, estimator=KNeighborsClassifier(),\n",
       "             param_grid={'metric': ['euclidean', 'manhattan'],\n",
       "                         'n_neighbors': [3, 5, 7, 9, 11, 13, 15],\n",
       "                         'weights': ['uniform', 'distance']},\n",
       "             scoring='roc_auc')"
      ]
     },
     "execution_count": 84,
     "metadata": {},
     "output_type": "execute_result"
    }
   ],
   "source": [
    "knn_params = {'n_neighbors' : [3,5,7,9,11,13,15], 'weights' : ['uniform', 'distance'],  'metric' : ['euclidean', 'manhattan']}\n",
    "grid_knn = GridSearchCV(KNeighborsClassifier(), knn_params, cv = 5, scoring=\"roc_auc\")\n",
    "grid_knn.fit(X_reduced_kbest_train, y_train)"
   ]
  },
  {
   "cell_type": "markdown",
   "metadata": {},
   "source": [
    "Pogledajmo koje su to optimalne vrednosti hiperparametara:"
   ]
  },
  {
   "cell_type": "code",
   "execution_count": 85,
   "metadata": {},
   "outputs": [
    {
     "data": {
      "text/plain": [
       "{'metric': 'euclidean', 'n_neighbors': 15, 'weights': 'distance'}"
      ]
     },
     "execution_count": 85,
     "metadata": {},
     "output_type": "execute_result"
    }
   ],
   "source": [
    "grid_knn.best_params_"
   ]
  },
  {
   "cell_type": "markdown",
   "metadata": {},
   "source": [
    "Kreirajmo model sa optimalno podesenim hiperparametrima:"
   ]
  },
  {
   "cell_type": "code",
   "execution_count": 86,
   "metadata": {},
   "outputs": [
    {
     "data": {
      "text/plain": [
       "KNeighborsClassifier(metric='euclidean', n_neighbors=15, weights='distance')"
      ]
     },
     "execution_count": 86,
     "metadata": {},
     "output_type": "execute_result"
    }
   ],
   "source": [
    "knn_model_bestk = grid_knn.best_estimator_\n",
    "knn_model_bestk.fit(X_reduced_kbest_train, y_train)"
   ]
  },
  {
   "cell_type": "markdown",
   "metadata": {},
   "source": [
    "Auc na train delu:"
   ]
  },
  {
   "cell_type": "code",
   "execution_count": 87,
   "metadata": {},
   "outputs": [
    {
     "data": {
      "text/plain": [
       "0.6462471504217746"
      ]
     },
     "execution_count": 87,
     "metadata": {},
     "output_type": "execute_result"
    }
   ],
   "source": [
    "cross_val_score(knn_model_bestk, X_reduced_kbest_train, y_train, cv = 10, scoring = 'roc_auc').mean()"
   ]
  },
  {
   "cell_type": "markdown",
   "metadata": {},
   "source": [
    "Kreirajmo predikcije i matricu konfuzije na test delu:"
   ]
  },
  {
   "cell_type": "code",
   "execution_count": 88,
   "metadata": {},
   "outputs": [
    {
     "data": {
      "text/plain": [
       "array([[945, 820],\n",
       "       [100, 175]], dtype=int64)"
      ]
     },
     "execution_count": 88,
     "metadata": {},
     "output_type": "execute_result"
    }
   ],
   "source": [
    "y_pred_knn_bestk = knn_model_bestk.predict_proba(X_reduced_kbest_test)[:, 1] >= 0.1\n",
    "confusion_matrix(y_test, y_pred_knn_bestk)"
   ]
  },
  {
   "cell_type": "markdown",
   "metadata": {},
   "source": [
    "Sracunajmo i odstampajmo standardne evaluacione metrike:"
   ]
  },
  {
   "cell_type": "code",
   "execution_count": 89,
   "metadata": {},
   "outputs": [
    {
     "name": "stdout",
     "output_type": "stream",
     "text": [
      "Accuracy : 0.5490196078431373\n",
      "Precision : 0.17587939698492464\n",
      "Recall : 0.6363636363636364\n",
      "F1 : 0.2755905511811024\n"
     ]
    }
   ],
   "source": [
    "print_performance(y_test, y_pred_knn_bestk)"
   ]
  },
  {
   "cell_type": "markdown",
   "metadata": {},
   "source": [
    "Auc na test delu:"
   ]
  },
  {
   "cell_type": "code",
   "execution_count": 90,
   "metadata": {},
   "outputs": [
    {
     "data": {
      "text/plain": [
       "0.5858872006180788"
      ]
     },
     "execution_count": 90,
     "metadata": {},
     "output_type": "execute_result"
    }
   ],
   "source": [
    "roc_auc_score(y_test, y_pred_knn_bestk)"
   ]
  },
  {
   "cell_type": "markdown",
   "metadata": {},
   "source": [
    "#### VOTING"
   ]
  },
  {
   "cell_type": "markdown",
   "metadata": {},
   "source": [
    "Kreirajmo VotingClassifier sa optimalno podesenim modelima na podskupu bitnih atributa:"
   ]
  },
  {
   "cell_type": "code",
   "execution_count": 91,
   "metadata": {},
   "outputs": [
    {
     "data": {
      "text/plain": [
       "VotingClassifier(estimators=[('lr',\n",
       "                              LogisticRegression(C=0.5132666251005873,\n",
       "                                                 penalty='l1',\n",
       "                                                 solver='liblinear')),\n",
       "                             ('tree',\n",
       "                              DecisionTreeClassifier(max_depth=5,\n",
       "                                                     max_features=5,\n",
       "                                                     min_samples_leaf=25)),\n",
       "                             ('knn',\n",
       "                              KNeighborsClassifier(metric='euclidean',\n",
       "                                                   n_neighbors=15,\n",
       "                                                   weights='distance'))],\n",
       "                 voting='soft')"
      ]
     },
     "execution_count": 91,
     "metadata": {},
     "output_type": "execute_result"
    }
   ],
   "source": [
    "model_voting_bestk = VotingClassifier(voting = \"soft\", estimators=[('lr', lr_bestk), ('tree', model_tree_bestk),\n",
    "                                                                  ('knn', knn_model_bestk)])\n",
    "\n",
    "model_voting_bestk.fit(X_reduced_kbest_train, y_train)"
   ]
  },
  {
   "cell_type": "markdown",
   "metadata": {},
   "source": [
    "Auc na train delu:"
   ]
  },
  {
   "cell_type": "code",
   "execution_count": 92,
   "metadata": {},
   "outputs": [
    {
     "data": {
      "text/plain": [
       "0.6840679622208361"
      ]
     },
     "execution_count": 92,
     "metadata": {},
     "output_type": "execute_result"
    }
   ],
   "source": [
    "cross_val_score(model_voting_bestk, X_reduced_kbest_train, y_train, cv=10, scoring='roc_auc').mean()"
   ]
  },
  {
   "cell_type": "markdown",
   "metadata": {},
   "source": [
    "Kreirajmo predikcije i matricu konfuzije:"
   ]
  },
  {
   "cell_type": "code",
   "execution_count": 93,
   "metadata": {},
   "outputs": [
    {
     "data": {
      "text/plain": [
       "array([[899, 866],\n",
       "       [ 83, 192]], dtype=int64)"
      ]
     },
     "execution_count": 93,
     "metadata": {},
     "output_type": "execute_result"
    }
   ],
   "source": [
    "y_pred_voting_bestk = model_voting_bestk.predict_proba(X_reduced_kbest_test)[:,1] > 0.1\n",
    "confusion_matrix(y_test, y_pred_voting_bestk)"
   ]
  },
  {
   "cell_type": "markdown",
   "metadata": {},
   "source": [
    "Sracunajmo i odstampajmo standardne evaluacione metrike:"
   ]
  },
  {
   "cell_type": "code",
   "execution_count": 94,
   "metadata": {},
   "outputs": [
    {
     "name": "stdout",
     "output_type": "stream",
     "text": [
      "Accuracy : 0.5348039215686274\n",
      "Precision : 0.18147448015122875\n",
      "Recall : 0.6981818181818182\n",
      "F1 : 0.28807201800450116\n"
     ]
    }
   ],
   "source": [
    "print_performance(y_test, y_pred_voting_bestk)"
   ]
  },
  {
   "cell_type": "markdown",
   "metadata": {},
   "source": [
    "Auc na test delu:"
   ]
  },
  {
   "cell_type": "code",
   "execution_count": 95,
   "metadata": {},
   "outputs": [
    {
     "data": {
      "text/plain": [
       "0.6037651300540819"
      ]
     },
     "execution_count": 95,
     "metadata": {},
     "output_type": "execute_result"
    }
   ],
   "source": [
    "roc_auc_score(y_test, y_pred_voting_bestk)"
   ]
  },
  {
   "cell_type": "markdown",
   "metadata": {},
   "source": [
    "#### STACKING"
   ]
  },
  {
   "cell_type": "markdown",
   "metadata": {},
   "source": [
    "Kreirajmo StackingClassifier sa optimalno podesenim modelima na podskupu bitnih atributa:"
   ]
  },
  {
   "cell_type": "code",
   "execution_count": 96,
   "metadata": {},
   "outputs": [
    {
     "data": {
      "text/plain": [
       "StackingClassifier(classifiers=[LogisticRegression(C=0.5132666251005873,\n",
       "                                                   penalty='l1',\n",
       "                                                   solver='liblinear'),\n",
       "                                DecisionTreeClassifier(max_depth=5,\n",
       "                                                       max_features=5,\n",
       "                                                       min_samples_leaf=25)],\n",
       "                   meta_classifier=LogisticRegression(C=0.5132666251005873,\n",
       "                                                      penalty='l1',\n",
       "                                                      solver='liblinear'),\n",
       "                   use_features_in_secondary=True)"
      ]
     },
     "execution_count": 96,
     "metadata": {},
     "output_type": "execute_result"
    }
   ],
   "source": [
    "model_stacking_bestk = StackingClassifier(classifiers = [lr_bestk, model_tree_bestk],\n",
    "                                   meta_classifier = lr_bestk,\n",
    "                                   use_features_in_secondary=True)\n",
    "model_stacking_bestk.fit(X_reduced_kbest_train, y_train)\n"
   ]
  },
  {
   "cell_type": "markdown",
   "metadata": {},
   "source": [
    "Auc na train delu:"
   ]
  },
  {
   "cell_type": "code",
   "execution_count": 97,
   "metadata": {},
   "outputs": [
    {
     "data": {
      "text/plain": [
       "0.6763599342169029"
      ]
     },
     "execution_count": 97,
     "metadata": {},
     "output_type": "execute_result"
    }
   ],
   "source": [
    "cross_val_score(model_stacking_bestk, X_reduced_kbest_train, y_train, cv=10, scoring='roc_auc').mean()"
   ]
  },
  {
   "cell_type": "markdown",
   "metadata": {},
   "source": [
    "Kreirajmo predikcije i matricu konfuzije na test delu:"
   ]
  },
  {
   "cell_type": "code",
   "execution_count": 98,
   "metadata": {},
   "outputs": [
    {
     "data": {
      "text/plain": [
       "array([[879, 886],\n",
       "       [ 69, 206]], dtype=int64)"
      ]
     },
     "execution_count": 98,
     "metadata": {},
     "output_type": "execute_result"
    }
   ],
   "source": [
    "y_pred_stacking_bestk = model_stacking_bestk.predict_proba(X_reduced_kbest_test)[:,1] > 0.1\n",
    "confusion_matrix(y_test, y_pred_stacking_bestk)"
   ]
  },
  {
   "cell_type": "markdown",
   "metadata": {},
   "source": [
    "Sracunajmo i prikazimo standardne evaluacione metrike:"
   ]
  },
  {
   "cell_type": "code",
   "execution_count": 99,
   "metadata": {},
   "outputs": [
    {
     "name": "stdout",
     "output_type": "stream",
     "text": [
      "Accuracy : 0.5318627450980392\n",
      "Precision : 0.18864468864468864\n",
      "Recall : 0.7490909090909091\n",
      "F1 : 0.30138990490124357\n"
     ]
    }
   ],
   "source": [
    "print_performance(y_test, y_pred_stacking_bestk)"
   ]
  },
  {
   "cell_type": "markdown",
   "metadata": {},
   "source": [
    "Auc na test delu:"
   ]
  },
  {
   "cell_type": "code",
   "execution_count": 100,
   "metadata": {},
   "outputs": [
    {
     "data": {
      "text/plain": [
       "0.623553953129024"
      ]
     },
     "execution_count": 100,
     "metadata": {},
     "output_type": "execute_result"
    }
   ],
   "source": [
    "roc_auc_score(y_test, y_pred_stacking_bestk)"
   ]
  },
  {
   "cell_type": "markdown",
   "metadata": {},
   "source": [
    "#### BAGGING"
   ]
  },
  {
   "cell_type": "markdown",
   "metadata": {},
   "source": [
    "Kreirajmo BaggingClassifier(), gde cemo kao base_estimator staviti optimalno podeseni model logisticke regresije na podskupu ulaznih podataka:"
   ]
  },
  {
   "cell_type": "code",
   "execution_count": 101,
   "metadata": {},
   "outputs": [
    {
     "data": {
      "text/plain": [
       "BaggingClassifier(base_estimator=LogisticRegression(C=0.5132666251005873,\n",
       "                                                    penalty='l1',\n",
       "                                                    solver='liblinear'),\n",
       "                  bootstrap=200)"
      ]
     },
     "execution_count": 101,
     "metadata": {},
     "output_type": "execute_result"
    }
   ],
   "source": [
    "model_bagging_bestk = BaggingClassifier(base_estimator = lr_bestk, bootstrap=200)\n",
    "model_bagging_bestk.fit(X_reduced_kbest_train, y_train)"
   ]
  },
  {
   "cell_type": "markdown",
   "metadata": {},
   "source": [
    "Auc na train delu:"
   ]
  },
  {
   "cell_type": "code",
   "execution_count": 102,
   "metadata": {},
   "outputs": [
    {
     "data": {
      "text/plain": [
       "0.6760879756103853"
      ]
     },
     "execution_count": 102,
     "metadata": {},
     "output_type": "execute_result"
    }
   ],
   "source": [
    "cross_val_score(model_bagging_bestk, X_reduced_kbest_train, y_train, cv=10, scoring='roc_auc').mean()"
   ]
  },
  {
   "cell_type": "markdown",
   "metadata": {},
   "source": [
    "Kreirajmo predikcije i matricu konfuzije na test delu:"
   ]
  },
  {
   "cell_type": "code",
   "execution_count": 103,
   "metadata": {},
   "outputs": [
    {
     "data": {
      "text/plain": [
       "array([[852, 913],\n",
       "       [ 65, 210]], dtype=int64)"
      ]
     },
     "execution_count": 103,
     "metadata": {},
     "output_type": "execute_result"
    }
   ],
   "source": [
    "y_pred_bagging_bestk = model_bagging_bestk.predict_proba(X_reduced_kbest_test)[:, 1] > 0.1\n",
    "confusion_matrix(y_test, y_pred_bagging_bestk)"
   ]
  },
  {
   "cell_type": "markdown",
   "metadata": {},
   "source": [
    "Sracunajmo i odstampajmo standardne evaluacione metrike:"
   ]
  },
  {
   "cell_type": "code",
   "execution_count": 104,
   "metadata": {},
   "outputs": [
    {
     "name": "stdout",
     "output_type": "stream",
     "text": [
      "Accuracy : 0.5205882352941177\n",
      "Precision : 0.18699910952804988\n",
      "Recall : 0.7636363636363637\n",
      "F1 : 0.30042918454935624\n"
     ]
    }
   ],
   "source": [
    "print_performance(y_test, y_pred_bagging_bestk)"
   ]
  },
  {
   "cell_type": "markdown",
   "metadata": {},
   "source": [
    "Auc na test delu:"
   ]
  },
  {
   "cell_type": "code",
   "execution_count": 105,
   "metadata": {},
   "outputs": [
    {
     "data": {
      "text/plain": [
       "0.6231779551892866"
      ]
     },
     "execution_count": 105,
     "metadata": {},
     "output_type": "execute_result"
    }
   ],
   "source": [
    "roc_auc_score(y_test, y_pred_bagging_bestk)"
   ]
  },
  {
   "cell_type": "markdown",
   "metadata": {},
   "source": [
    "#### RANDOM FOREST"
   ]
  },
  {
   "cell_type": "markdown",
   "metadata": {},
   "source": [
    "Kreirajmo Random forest na podskupu 40 bitnih atributa:"
   ]
  },
  {
   "cell_type": "code",
   "execution_count": 106,
   "metadata": {},
   "outputs": [
    {
     "data": {
      "text/plain": [
       "RandomForestClassifier(n_estimators=200, oob_score=True)"
      ]
     },
     "execution_count": 106,
     "metadata": {},
     "output_type": "execute_result"
    }
   ],
   "source": [
    "forest_bestk = RandomForestClassifier(n_estimators = 200, oob_score = True)\n",
    "forest_bestk.fit(X_reduced_kbest_train, y_train)"
   ]
  },
  {
   "cell_type": "markdown",
   "metadata": {},
   "source": [
    "Auc na train delu:"
   ]
  },
  {
   "cell_type": "code",
   "execution_count": 107,
   "metadata": {},
   "outputs": [
    {
     "data": {
      "text/plain": [
       "0.65579913424215"
      ]
     },
     "execution_count": 107,
     "metadata": {},
     "output_type": "execute_result"
    }
   ],
   "source": [
    "cross_val_score(forest_bestk, X_reduced_kbest_train, y_train, cv=10, scoring='roc_auc').mean()"
   ]
  },
  {
   "cell_type": "markdown",
   "metadata": {},
   "source": [
    "Kreirajmo predikcije i matricu konfuzije na test delu:"
   ]
  },
  {
   "cell_type": "code",
   "execution_count": 108,
   "metadata": {},
   "outputs": [
    {
     "data": {
      "text/plain": [
       "array([[857, 908],\n",
       "       [ 83, 192]], dtype=int64)"
      ]
     },
     "execution_count": 108,
     "metadata": {},
     "output_type": "execute_result"
    }
   ],
   "source": [
    "y_pred_forest_bestk = forest_bestk.predict_proba(X_reduced_kbest_test)[:, 1] > 0.1\n",
    "confusion_matrix(y_test, y_pred_forest_bestk)"
   ]
  },
  {
   "cell_type": "markdown",
   "metadata": {},
   "source": [
    "Sracunajmo i odstampajmo standardne evaluacione metrike:"
   ]
  },
  {
   "cell_type": "code",
   "execution_count": 109,
   "metadata": {},
   "outputs": [
    {
     "name": "stdout",
     "output_type": "stream",
     "text": [
      "Accuracy : 0.5142156862745098\n",
      "Precision : 0.17454545454545456\n",
      "Recall : 0.6981818181818182\n",
      "F1 : 0.2792727272727273\n"
     ]
    }
   ],
   "source": [
    "print_performance(y_test, y_pred_forest_bestk)"
   ]
  },
  {
   "cell_type": "markdown",
   "metadata": {},
   "source": [
    "Auc na test delu:"
   ]
  },
  {
   "cell_type": "code",
   "execution_count": 110,
   "metadata": {},
   "outputs": [
    {
     "data": {
      "text/plain": [
       "0.5918671130569149"
      ]
     },
     "execution_count": 110,
     "metadata": {},
     "output_type": "execute_result"
    }
   ],
   "source": [
    "roc_auc_score(y_test, y_pred_forest_bestk)"
   ]
  },
  {
   "cell_type": "code",
   "execution_count": null,
   "metadata": {},
   "outputs": [],
   "source": []
  }
 ],
 "metadata": {
  "kernelspec": {
   "display_name": "Python 3",
   "language": "python",
   "name": "python3"
  },
  "language_info": {
   "codemirror_mode": {
    "name": "ipython",
    "version": 3
   },
   "file_extension": ".py",
   "mimetype": "text/x-python",
   "name": "python",
   "nbconvert_exporter": "python",
   "pygments_lexer": "ipython3",
   "version": "3.8.5"
  }
 },
 "nbformat": 4,
 "nbformat_minor": 4
}
